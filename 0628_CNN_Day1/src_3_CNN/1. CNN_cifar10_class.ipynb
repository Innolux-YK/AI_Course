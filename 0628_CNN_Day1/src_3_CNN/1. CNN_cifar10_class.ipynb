{
 "cells": [
  {
   "cell_type": "markdown",
   "metadata": {
    "id": "jVehH4MNhbTP"
   },
   "source": [
    "# CNN 練習\n"
   ]
  },
  {
   "cell_type": "markdown",
   "metadata": {
    "id": "98Q6g2Bfu6hB"
   },
   "source": [
    "## 匯入所需套件"
   ]
  },
  {
   "cell_type": "code",
   "execution_count": 1,
   "metadata": {
    "id": "C-K6b_vfX3iJ"
   },
   "outputs": [],
   "source": [
    "# import package\n",
    "import os\n",
    "import cv2\n",
    "import numpy as np\n",
    "import matplotlib.pyplot as plt\n",
    "import torch\n",
    "import torch.nn as nn\n",
    "import torch.nn.functional as F\n",
    "import torch.optim as optim\n",
    "import torchvision\n",
    "import torchvision.transforms as transforms\n",
    "from torchsummary import summary"
   ]
  },
  {
   "cell_type": "code",
   "execution_count": null,
   "metadata": {
    "id": "cNVpJbqUNQSe",
    "outputId": "5f66183c-d67a-48b5-9f1c-6003b3517cd9"
   },
   "outputs": [],
   "source": [
    "#測試是否有使用到GPU\n",
    "\n",
    "# Apple M-series SoC\n",
    "print(torch.backends.mps.is_available())\n",
    "print(torch.backends.mps.is_built())\n",
    "\n",
    "# NVIDIA GPU\n",
    "print(torch.cuda.is_available())\n",
    "print(torch.backends.cuda.is_built())"
   ]
  },
  {
   "cell_type": "code",
   "execution_count": null,
   "metadata": {
    "id": "yml5lTJvdoct"
   },
   "outputs": [],
   "source": [
    "device = torch.device(\"cuda\" if torch.cuda.is_available() else \"cpu\")  # 使用 NVIDIA GPU\n",
    "# device = torch.device(\"mps\" if torch.backends.mps.is_available() else \"cpu\")  # 使用 Apple M-series SoC"
   ]
  },
  {
   "cell_type": "markdown",
   "metadata": {
    "id": "awautmYIh4a2"
   },
   "source": [
    "## 一、Cifar10 資料讀入及前處理"
   ]
  },
  {
   "cell_type": "markdown",
   "metadata": {
    "id": "tn5lDbqINQSf"
   },
   "source": [
    "### 1. 資料預處理，包含rescale, 資料擴增"
   ]
  },
  {
   "cell_type": "code",
   "execution_count": null,
   "metadata": {
    "id": "94I_3xmjNQSg"
   },
   "outputs": [],
   "source": [
    "# Cifar-10 data\n",
    "transform = transforms.Compose([transforms.ToTensor()])"
   ]
  },
  {
   "cell_type": "markdown",
   "metadata": {
    "id": "k6gX2X2zNQSg"
   },
   "source": [
    "### 2. 讀取cifar10 資料集進來"
   ]
  },
  {
   "cell_type": "code",
   "execution_count": null,
   "metadata": {
    "colab": {
     "base_uri": "https://localhost:8080/"
    },
    "executionInfo": {
     "elapsed": 18544,
     "status": "ok",
     "timestamp": 1652257241828,
     "user": {
      "displayName": "Chris Liao",
      "userId": "00946619667757242614"
     },
     "user_tz": -480
    },
    "id": "IKC4TPyHX5NE",
    "outputId": "7e38fcc0-064b-4773-aca9-593fc12620de"
   },
   "outputs": [],
   "source": [
    "# Data\n",
    "trainset = torchvision.datasets.CIFAR10(root='./data', train=True, download=True, transform=transform)\n",
    "testset = torchvision.datasets.CIFAR10(root='./data', train=False, download=True, transform=transform)"
   ]
  },
  {
   "cell_type": "code",
   "execution_count": null,
   "metadata": {
    "id": "r1rXfJSfNQSg"
   },
   "outputs": [],
   "source": [
    "X_train = [] # 訓練集圖片\n",
    "y_train = [] # 訓練集標籤\n",
    "X_test = []  # 測試集圖片\n",
    "y_test = []  # 測試集標籤\n",
    "\n",
    "for images, labels in trainset:\n",
    "    X_train.append(np.array(images))\n",
    "    y_train.append(np.array(labels))\n",
    "\n",
    "for images, labels in testset:\n",
    "    X_test.append(np.array(images))\n",
    "    y_test.append(np.array(labels))"
   ]
  },
  {
   "cell_type": "code",
   "execution_count": null,
   "metadata": {
    "id": "OdQVABBINQSh",
    "outputId": "338a8d8d-979f-42bd-cfde-3a2194bce0da"
   },
   "outputs": [],
   "source": [
    "X_train = np.array(X_train)\n",
    "print(X_train.shape)"
   ]
  },
  {
   "cell_type": "markdown",
   "metadata": {
    "id": "rI-CJHttWSC-"
   },
   "source": [
    "### <span style=\"color:red\">下圖是Cifar10的10個分類</span>\n",
    "![Imgur](https://i.imgur.com/44srTgL.png)"
   ]
  },
  {
   "cell_type": "markdown",
   "metadata": {
    "id": "IrPl8TDyeUQb"
   },
   "source": [
    "### 3. 建立一個標籤字典"
   ]
  },
  {
   "cell_type": "code",
   "execution_count": null,
   "metadata": {
    "id": "HOiCblFPeXd_"
   },
   "outputs": [],
   "source": [
    "label_dict = {\n",
    "    0: 'airplane',\n",
    "    1: 'automobile',\n",
    "    2: 'bird',\n",
    "    3: 'cat',\n",
    "    4: 'deer',\n",
    "    5: 'dog',\n",
    "    6: 'frog',\n",
    "    7: 'horse',\n",
    "    8: 'ship',\n",
    "    9: 'truck'\n",
    "}\n",
    "num_classes = len(label_dict)"
   ]
  },
  {
   "cell_type": "markdown",
   "metadata": {
    "id": "xvySWDwAeAzt"
   },
   "source": [
    "### 4. 查看訓練集資料圖片"
   ]
  },
  {
   "cell_type": "code",
   "execution_count": null,
   "metadata": {
    "id": "SJjaj42F3PCA",
    "outputId": "3ee21c4d-51b7-437d-efa2-0dd69166d460"
   },
   "outputs": [],
   "source": [
    "# 查看第一張圖片及標籤\n",
    "Img = X_train[0]\n",
    "plt.imshow(np.transpose(Img,(1,2,0)))  # 轉回正常格式 從CHW (Channel, Height, Width)轉回HWC\n",
    "plt.title(label_dict[int(y_train[0])])"
   ]
  },
  {
   "cell_type": "markdown",
   "metadata": {
    "id": "9_Ci_sY5_qnq"
   },
   "source": [
    "### 5. 隨機查看訓練集資料圖片(最多25張)"
   ]
  },
  {
   "cell_type": "code",
   "execution_count": null,
   "metadata": {
    "id": "wB99Q3DeeseR",
    "outputId": "0e51e217-ecaf-498e-ade3-436c7c148f91"
   },
   "outputs": [],
   "source": [
    "#隨機查看圖片\n",
    "import random\n",
    "def ShowImage(images,labels,total=10):  # 圖片，標籤，預測標籤，總共顯示張數\n",
    "    plt.gcf().set_size_inches(18, 20)\n",
    "    if total >= 25:\n",
    "        total = 25\n",
    "\n",
    "    for i in range(0, total):\n",
    "        num = random.randint(0,len(labels)-1)\n",
    "        img_show = plt.subplot(5, 5, i+1)\n",
    "        Img = images[num]\n",
    "        img_show.imshow(np.transpose(Img,(1,2,0)))\n",
    "        title = \"Label = \" + str(label_dict[int(labels[num])])\n",
    "        plt.title(title)\n",
    "    plt.show()\n",
    "\n",
    "ShowImage(X_train,y_train,total=25)"
   ]
  },
  {
   "cell_type": "markdown",
   "metadata": {
    "id": "KSGDN4dge2RW"
   },
   "source": [
    "## 二、資料預處理"
   ]
  },
  {
   "cell_type": "markdown",
   "metadata": {
    "id": "GDtPL4n7_x1b"
   },
   "source": [
    "### 1. 將訓練集與測試集轉換為data generator"
   ]
  },
  {
   "cell_type": "code",
   "execution_count": null,
   "metadata": {
    "id": "kuL3JYqGe8w_"
   },
   "outputs": [],
   "source": [
    "trainLoader = torch.utils.data.DataLoader(trainset, batch_size=32, shuffle=True, num_workers=2)\n",
    "testLoader = torch.utils.data.DataLoader(testset, batch_size=32, shuffle=False, num_workers=2)"
   ]
  },
  {
   "cell_type": "code",
   "execution_count": null,
   "metadata": {
    "id": "7Kn34TmFNQSi"
   },
   "outputs": [],
   "source": [
    "dataiter = iter(trainLoader) #迭代器\n",
    "images,labels = next(dataiter)"
   ]
  },
  {
   "cell_type": "code",
   "execution_count": null,
   "metadata": {
    "id": "Mss69XNlNQSi",
    "outputId": "1c459832-5a99-40d3-e688-319a16fea0b5"
   },
   "outputs": [],
   "source": [
    "print(images.shape) #(batch, channel, Height, Width)\n",
    "print(labels.shape)"
   ]
  },
  {
   "cell_type": "markdown",
   "metadata": {
    "id": "rqCH66zEiJ8m"
   },
   "source": [
    "## 三、設計模型架構"
   ]
  },
  {
   "cell_type": "markdown",
   "metadata": {
    "id": "UZA5ZTClAQ2s"
   },
   "source": [
    "### 1. CNN model Structure"
   ]
  },
  {
   "cell_type": "code",
   "execution_count": null,
   "metadata": {
    "id": "M10EOqLrNQSi",
    "outputId": "3ed8492d-8924-4567-dd93-ed466b5822e4"
   },
   "outputs": [],
   "source": [
    "# Model structure\n",
    "class CNN(nn.Module):\n",
    "    def __init__(self):\n",
    "        super(CNN, self).__init__()\n",
    "        self.conv1 = nn.Conv2d(in_channels = 3, out_channels = 32, kernel_size = 3, padding = 1)\n",
    "        self.conv2 = nn.Conv2d(in_channels = 32, out_channels = 32, kernel_size = 3, padding = 1)\n",
    "        self.conv3 = nn.Conv2d(in_channels = 32, out_channels = 64, kernel_size = 3, padding = 1)\n",
    "        self.conv4 = nn.Conv2d(in_channels = 64, out_channels = 64, kernel_size = 3, padding = 1)\n",
    "\n",
    "        self.pool = nn.MaxPool2d(2, 2)\n",
    "        self.act = nn.ReLU()\n",
    "\n",
    "        self.fc = nn.Sequential(nn.Linear(in_features = 64*8*8, out_features = 128),  #512 * 7 * 7不能改變\n",
    "                                nn.ReLU(True),\n",
    "                                nn.Linear(in_features = 128, out_features = num_classes),)\n",
    "\n",
    "    def forward(self, x):\n",
    "        x = self.act(self.conv1(x)) # 32\n",
    "        x = self.pool(self.act(self.conv2(x))) # 16\n",
    "        x = self.act(self.conv3(x)) # 16\n",
    "        x = self.pool(self.act(self.conv4(x))) # 8\n",
    "        x = x.view(-1, 64*8*8)\n",
    "        x = self.fc(x)\n",
    "\n",
    "        return x\n",
    "\n",
    "cnn_model = CNN().to(device)\n",
    "print(cnn_model)\n",
    "#summary(cnn_model, input_size=(3, 32, 32))"
   ]
  },
  {
   "cell_type": "markdown",
   "metadata": {
    "id": "G1gc9bmiNQSj"
   },
   "source": [
    "## 2. DNN model Structure"
   ]
  },
  {
   "cell_type": "code",
   "execution_count": null,
   "metadata": {
    "id": "Qa1oIhqYNQSj",
    "outputId": "643734a0-3ef3-4104-9926-4a1018710fec"
   },
   "outputs": [],
   "source": [
    "# Model structure\n",
    "class DNN(nn.Module):\n",
    "    def __init__(self):\n",
    "        super(DNN, self).__init__()\n",
    "        self.fc1 = nn.Linear(in_features = 3*32*32, out_features = 512)\n",
    "        self.fc2 = nn.Linear(in_features = 512, out_features = 256)\n",
    "        self.fc3 = nn.Linear(in_features = 256, out_features = 128)\n",
    "        self.output = nn.Linear(in_features = 128, out_features = 10)\n",
    "        self.act = nn.ReLU()\n",
    "\n",
    "    def forward(self, x):\n",
    "        x = x.view(-1, 3*32*32)\n",
    "        x = self.act(self.fc1(x))\n",
    "        x = self.act(self.fc2(x))\n",
    "        x = self.act(self.fc3(x))\n",
    "        output = self.output(x)\n",
    "\n",
    "        return output\n",
    "\n",
    "dnn_model = DNN().to(device)\n",
    "print(dnn_model)\n",
    "#summary(cnn_model, input_size=(3, 32, 32))"
   ]
  },
  {
   "cell_type": "markdown",
   "metadata": {
    "id": "CkrKrXctigSI"
   },
   "source": [
    "## 四、開始訓練模型"
   ]
  },
  {
   "cell_type": "markdown",
   "metadata": {
    "id": "81_mXSVfAZh9"
   },
   "source": [
    "### 1. 編譯CNN模型"
   ]
  },
  {
   "cell_type": "code",
   "execution_count": null,
   "metadata": {
    "id": "sz8BI_BCNQSj"
   },
   "outputs": [],
   "source": [
    "# 選用Adam為optimizer\n",
    "# Parameters\n",
    "# pytorch的CrossEntropyLoss在計算時，會以softmax的輸出作為最後的結果\n",
    "\n",
    "criterion = nn.CrossEntropyLoss()\n",
    "lr = 0.001\n",
    "epochs = 10\n",
    "#optimizer_cnn = optim.SGD(cnn_model.parameters(), lr=lr, momentum=0.9)\n",
    "optimizer_cnn = optim.Adam(cnn_model.parameters(), lr=lr, betas=(0.9, 0.999), eps=1e-08, weight_decay=0, amsgrad=False)\n",
    "\n"
   ]
  },
  {
   "cell_type": "markdown",
   "metadata": {
    "id": "42A4zAbBNQSj"
   },
   "source": [
    "### 2. CNN model Train"
   ]
  },
  {
   "cell_type": "code",
   "execution_count": null,
   "metadata": {
    "id": "8nD0yKb6spx_",
    "outputId": "3b8cc7c4-64f6-40f8-a8e4-218a3e662c1b"
   },
   "outputs": [],
   "source": [
    "# 訓練過程\n",
    "# len(trainLoader) : 訓練集總共的資料量 / batch\n",
    "# len(trainLoader.dataset) : 訓練集總共的資料量\n",
    "\n",
    "cnn_loss_history = []\n",
    "cnn_acc_history = []\n",
    "\n",
    "cnn_valloss_history = []\n",
    "cnn_valacc_history = []\n",
    "\n",
    "for epoch in range(epochs):\n",
    "    # 訓練階段\n",
    "    running_loss = 0.0\n",
    "    accuracy = 0.0\n",
    "    total = 0.0\n",
    "    for times, data_train in enumerate(trainLoader, 0):\n",
    "        # batch data input\n",
    "        inputs, labels = data_train\n",
    "        inputs, labels = inputs.to(device), labels.to(device)\n",
    "\n",
    "        # Zero the parameter gradients\n",
    "        optimizer_cnn.zero_grad()\n",
    "\n",
    "        # model Feedforward\n",
    "        output_train = cnn_model(inputs)\n",
    "\n",
    "        # Feed forward loss result\n",
    "        loss = criterion(output_train, labels)\n",
    "\n",
    "        # backward update\n",
    "        loss.backward()\n",
    "\n",
    "        # optimize\n",
    "        optimizer_cnn.step()\n",
    "\n",
    "        # Compute loss\n",
    "        running_loss += loss.item()\n",
    "\n",
    "        # Compute accuracy\n",
    "        _, predicted = torch.max(output_train.data, 1)\n",
    "        total += labels.size(0)\n",
    "        accuracy += (predicted == labels).sum().item()\n",
    "\n",
    "        if times+1 == len(trainLoader):\n",
    "            print('[%d/%d, %d/%d] loss: %.3f, acc: %.3f,' % (epoch+1,\n",
    "                                                             epochs,\n",
    "                                                             times+1,\n",
    "                                                             len(trainLoader),\n",
    "                                                             running_loss/len(trainLoader),\n",
    "                                                             accuracy / total),end = \" \")\n",
    "            cnn_loss_history.append(running_loss/len(trainLoader))\n",
    "            cnn_acc_history.append(accuracy / total)\n",
    "            running_loss = 0.0\n",
    "\n",
    "    # 測試階段\n",
    "    cnn_model.eval()\n",
    "    test_loss = 0.0\n",
    "    accuracy = 0.0\n",
    "    total = 0.0\n",
    "    with torch.no_grad(): # disable gradient calculation for efficiency\n",
    "        for times, data_test in enumerate(testLoader, 0):\n",
    "            # batch data input\n",
    "            inputs, labels = data_test\n",
    "            inputs, labels = inputs.to(device), labels.to(device)\n",
    "\n",
    "            # model predict\n",
    "            output_test = cnn_model(inputs)\n",
    "\n",
    "            # Compute loss\n",
    "            loss_t = criterion(output_test, labels)\n",
    "            test_loss += loss_t.item()\n",
    "\n",
    "            # Compute accuracy\n",
    "            _, predicted = torch.max(output_test.data, 1)\n",
    "            total += labels.size(0)\n",
    "            accuracy += (predicted == labels).sum().item()\n",
    "\n",
    "            if times+1 == len(testLoader):\n",
    "                print('test_loss: %.3f, test_acc: %.3f' % (test_loss / len(testLoader),\n",
    "                                                           accuracy / total))\n",
    "\n",
    "                cnn_valloss_history.append(test_loss / len(testLoader))\n",
    "                cnn_valacc_history.append(accuracy / total)\n",
    "                test_loss = 0.0\n",
    "\n",
    "print('Finished Training')"
   ]
  },
  {
   "cell_type": "code",
   "execution_count": null,
   "metadata": {
    "id": "qmpsq6ZsNQSj"
   },
   "outputs": [],
   "source": [
    "torch.save(cnn_model, 'cnn_model.pth')"
   ]
  },
  {
   "cell_type": "markdown",
   "metadata": {
    "id": "cm03WZzyNQSk"
   },
   "source": [
    "### 3. 編譯DNN模型"
   ]
  },
  {
   "cell_type": "code",
   "execution_count": null,
   "metadata": {
    "id": "VT-ahMxONQSk"
   },
   "outputs": [],
   "source": [
    "# 選用Adam為optimizer\n",
    "# Parameters\n",
    "# pytorch的CrossEntropyLoss在計算時，會以softmax的輸出作為最後的結果\n",
    "\n",
    "criterion = nn.CrossEntropyLoss()\n",
    "lr = 0.001\n",
    "epochs = 10\n",
    "optimizer_dnn = optim.Adam(dnn_model.parameters(), lr=lr, betas=(0.9, 0.999), eps=1e-08, weight_decay=0, amsgrad=False)\n",
    "\n"
   ]
  },
  {
   "cell_type": "markdown",
   "metadata": {
    "id": "GbFgJMggNQSk"
   },
   "source": [
    "### 4. DNN model Train"
   ]
  },
  {
   "cell_type": "code",
   "execution_count": null,
   "metadata": {
    "id": "daB6MnWaNQSk",
    "outputId": "09f92115-548a-44e8-c244-e706481f4eb5"
   },
   "outputs": [],
   "source": [
    "# 訓練過程\n",
    "# len(trainLoader) : 訓練集總共的資料量 / batch\n",
    "# len(trainLoader.dataset) : 訓練集總共的資料量\n",
    "\n",
    "dnn_loss_history = []\n",
    "dnn_acc_history = []\n",
    "\n",
    "dnn_valloss_history = []\n",
    "dnn_valacc_history = []\n",
    "\n",
    "for epoch in range(epochs):\n",
    "    # 訓練階段\n",
    "    running_loss = 0.0\n",
    "    accuracy = 0.0\n",
    "    total = 0.0\n",
    "    for times, data_train in enumerate(trainLoader, 0):\n",
    "        # batch data input\n",
    "        inputs, labels = data_train\n",
    "        inputs, labels = inputs.to(device), labels.to(device)\n",
    "\n",
    "        # Zero the parameter gradients\n",
    "        optimizer_dnn.zero_grad()\n",
    "\n",
    "        # model Feedforward\n",
    "        output_train = dnn_model(inputs)\n",
    "\n",
    "        # Feed forward loss result\n",
    "        loss = criterion(output_train, labels)\n",
    "\n",
    "        # backward update\n",
    "        loss.backward()\n",
    "\n",
    "        # optimize\n",
    "        optimizer_dnn.step()\n",
    "\n",
    "        # Compute loss\n",
    "        running_loss += loss.item()\n",
    "\n",
    "        # Compute accuracy\n",
    "        _, predicted = torch.max(output_train.data, 1)\n",
    "        total += labels.size(0)\n",
    "        accuracy += (predicted == labels).sum().item()\n",
    "\n",
    "        if times+1 == len(trainLoader):\n",
    "            print('[%d/%d, %d/%d] loss: %.3f, acc: %.3f,' % (epoch+1,\n",
    "                                                             epochs,\n",
    "                                                             times+1,\n",
    "                                                             len(trainLoader),\n",
    "                                                             running_loss/len(trainLoader),\n",
    "                                                             accuracy / total),end = \" \")\n",
    "            dnn_loss_history.append(running_loss/len(trainLoader))\n",
    "            dnn_acc_history.append(accuracy / total)\n",
    "            running_loss = 0.0\n",
    "\n",
    "    # 測試階段\n",
    "    dnn_model.eval()\n",
    "    test_loss = 0.0\n",
    "    accuracy = 0.0\n",
    "    total = 0.0\n",
    "    with torch.no_grad(): # disable gradient calculation for efficiency\n",
    "        for times, data_test in enumerate(testLoader, 0):\n",
    "            # batch data input\n",
    "            inputs, labels = data_test\n",
    "            inputs, labels = inputs.to(device), labels.to(device)\n",
    "\n",
    "            # model predict\n",
    "            output_test = dnn_model(inputs)\n",
    "\n",
    "            # Compute loss\n",
    "            loss_t = criterion(output_test, labels)\n",
    "            test_loss += loss_t.item()\n",
    "\n",
    "            # Compute accuracy\n",
    "            _, predicted = torch.max(output_test.data, 1)\n",
    "            total += labels.size(0)\n",
    "            accuracy += (predicted == labels).sum().item()\n",
    "\n",
    "            if times+1 == len(testLoader):\n",
    "                print('test_loss: %.3f, test_acc: %.3f' % (test_loss / len(testLoader),\n",
    "                                                           accuracy / total))\n",
    "\n",
    "                dnn_valloss_history.append(test_loss / len(testLoader))\n",
    "                dnn_valacc_history.append(accuracy / total)\n",
    "                test_loss = 0.0\n",
    "\n",
    "print('Finished Training')"
   ]
  },
  {
   "cell_type": "markdown",
   "metadata": {
    "id": "p2BtycE6kXJO"
   },
   "source": [
    "## 五、訓練結果視覺化"
   ]
  },
  {
   "cell_type": "code",
   "execution_count": null,
   "metadata": {
    "id": "ChCROCb1NQSq",
    "outputId": "ed48eef6-8b52-4f4e-b338-1b552cff7321"
   },
   "outputs": [],
   "source": [
    "def Show_Train_flow(train_cnnmodel, test_cnnmodel, Show = 'loss', Title='Training accuracy comparision'):\n",
    "    plt.plot(train_cnnmodel)\n",
    "    plt.plot(test_cnnmodel)\n",
    "    plt.title(Title)\n",
    "    plt.ylabel(Show)\n",
    "    plt.xlabel('Epoch')\n",
    "    plt.legend(['train','test'])\n",
    "    plt.show()\n",
    "\n",
    "Show_Train_flow(cnn_loss_history, cnn_valloss_history, Show = 'loss', Title='cnn loss comparision')\n",
    "Show_Train_flow(cnn_acc_history, cnn_valacc_history, Show = 'acc', Title='cnn acc comparision')\n",
    "Show_Train_flow(dnn_loss_history, dnn_valloss_history, Show = 'loss', Title='dnn loss comparision')\n",
    "Show_Train_flow(dnn_acc_history, dnn_valacc_history, Show = 'acc', Title='dnn acc comparision')"
   ]
  },
  {
   "cell_type": "markdown",
   "metadata": {
    "id": "LkvF_ek87SFe"
   },
   "source": [
    "## 六、測試集預測，查看測試集的表現"
   ]
  },
  {
   "cell_type": "markdown",
   "metadata": {
    "id": "A8RSgaEaAlka"
   },
   "source": [
    "### 1.單一筆測試集圖片的預測"
   ]
  },
  {
   "cell_type": "code",
   "execution_count": null,
   "metadata": {
    "id": "Q176l9Q0NQSq"
   },
   "outputs": [],
   "source": [
    "cnn_model = torch.load('cnn_model.pth')"
   ]
  },
  {
   "cell_type": "code",
   "execution_count": null,
   "metadata": {
    "id": "tWlVYebVNQSq"
   },
   "outputs": [],
   "source": [
    "softmax_output = nn.Softmax(dim=1)"
   ]
  },
  {
   "cell_type": "code",
   "execution_count": null,
   "metadata": {
    "id": "POdixolHNQSq"
   },
   "outputs": [],
   "source": [
    "ImgTest = np.expand_dims(X_test[0], axis=0) # (3,32,32) -> (1,3,32,32)\n",
    "ImgTest = torch.tensor(ImgTest)             # 將圖片轉換成torch tensor(才能丟入模型進行預測)\n",
    "ImgTest = ImgTest.to(device)                # to gpu mode\n",
    "Result = cnn_model(ImgTest)                 # Predict images\n",
    "sm_Result = softmax_output(Result)          # softmax output"
   ]
  },
  {
   "cell_type": "code",
   "execution_count": null,
   "metadata": {
    "id": "-VfeRLpPNQSq"
   },
   "outputs": [],
   "source": [
    "sm_Result = sm_Result.data.cpu().numpy()    # 將結果轉換成numpy格式(因為預測是用gpu，所以這裡要轉換成cpu格式才能轉numpy array)"
   ]
  },
  {
   "cell_type": "code",
   "execution_count": null,
   "metadata": {
    "id": "SEPc1I-pNQSq",
    "outputId": "306c2f6f-c058-4ac0-8359-da393e87655a"
   },
   "outputs": [],
   "source": [
    "CnnargmaxResult = label_dict[sm_Result[0].argmax()]\n",
    "RealResult = label_dict[int(y_test[0])]\n",
    "\n",
    "plt.imshow(np.transpose(X_test[0],(1,2,0))) #轉回正常格式 從chw轉回hwc\n",
    "plt.title(\"Predict label : %s\\n True label : %s\"%(CnnargmaxResult, RealResult))"
   ]
  },
  {
   "cell_type": "markdown",
   "metadata": {
    "id": "nKMCUQl8Aq5y"
   },
   "source": [
    "### 2. 全部測試集的預測"
   ]
  },
  {
   "cell_type": "code",
   "execution_count": null,
   "metadata": {
    "id": "KPJW5wXLNQSr"
   },
   "outputs": [],
   "source": [
    "predict_output = []\n",
    "for i in range(len(X_test)):\n",
    "    ImgTest = np.expand_dims(X_test[i], axis=0) # (3,32,32) -> (1,3,32,32)\n",
    "    ImgTest = torch.tensor(ImgTest)             # 將圖片轉換成torch tensor(才能丟入模型進行預測)\n",
    "    ImgTest = ImgTest.to(device)                # to gpu mode\n",
    "    Result = cnn_model(ImgTest)                 # Predict images\n",
    "    sm_Result = softmax_output(Result)          # softmax output\n",
    "\n",
    "    sm_Result = sm_Result.data.cpu().numpy()\n",
    "    predict_output.append(sm_Result[0].argmax())"
   ]
  },
  {
   "cell_type": "code",
   "execution_count": null,
   "metadata": {
    "id": "MR-r8vvKNQSr"
   },
   "outputs": [],
   "source": [
    "y_predict = [] #所有預測的結果\n",
    "y_TrueLabel=[] #所有真實標籤的結果\n",
    "\n",
    "#(1,5,9,6)\n",
    "#(dog, cat)\n",
    "for i in range(len(X_test)):\n",
    "    y_predict.append(label_dict[predict_output[i]])#將結果儲存起來\n",
    "    y_TrueLabel.append(label_dict[int(y_test[i])])#將真實標籤從字典找出相對應的標籤後儲存起來\n",
    "\n",
    "y_TrueLabel = np.asarray(y_TrueLabel)\n",
    "y_predict = np.asarray(y_predict)"
   ]
  },
  {
   "cell_type": "code",
   "execution_count": null,
   "metadata": {
    "id": "d73iFpEONQSr",
    "outputId": "c3eecf5f-fe16-4cd1-eb50-f4982a79bfbf"
   },
   "outputs": [],
   "source": [
    "print(y_TrueLabel)\n",
    "print(y_predict)"
   ]
  },
  {
   "cell_type": "markdown",
   "metadata": {
    "id": "enWUxQiLAwRz"
   },
   "source": [
    "### Confusion Matrix"
   ]
  },
  {
   "cell_type": "code",
   "execution_count": null,
   "metadata": {
    "id": "z5WWVx3YGbHI",
    "outputId": "e02c637f-9827-4551-b4d0-b6ee7a083532"
   },
   "outputs": [],
   "source": [
    "from sklearn.metrics import classification_report\n",
    "\n",
    "print(classification_report(y_TrueLabel, y_predict, digits = 3))"
   ]
  },
  {
   "cell_type": "code",
   "execution_count": null,
   "metadata": {
    "id": "U5mU2IToGpHQ",
    "outputId": "ecc7eced-51c6-40e1-9c77-f0bf9c98c3d4"
   },
   "outputs": [],
   "source": [
    "import pandas as pd\n",
    "\n",
    "display(pd.crosstab(y_TrueLabel, y_predict, rownames=[\"True\"], colnames=[\"Predict\"]))"
   ]
  },
  {
   "cell_type": "markdown",
   "metadata": {
    "id": "wt6Vj0QDYihi"
   },
   "source": [
    "# 課堂練習\n",
    "隨機顯示出測試集的10-25張圖片，並且顯示出CNN預測出來的結果以及原本正確的標籤\n",
    "![image.png](data:image/png;base64,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)"
   ]
  },
  {
   "cell_type": "code",
   "execution_count": null,
   "metadata": {
    "id": "ozBfvk3SNQSy"
   },
   "outputs": [],
   "source": [
    "#隨機查看圖片\n",
    "import random\n",
    "def ShowImage(images,labels,predictions,total=10): #圖片，標籤，預測標籤，總共顯示張數\n",
    "    plt.gcf().set_size_inches(18, 20)\n",
    "\n",
    "\n",
    "ShowImage(X_test,y_TrueLabel,y_predict,total=25)"
   ]
  },
  {
   "cell_type": "code",
   "execution_count": null,
   "metadata": {
    "id": "GjH_ea0TNQSy"
   },
   "outputs": [],
   "source": []
  }
 ],
 "metadata": {
  "accelerator": "GPU",
  "colab": {
   "provenance": [],
   "toc_visible": true
  },
  "kernelspec": {
   "display_name": "Python 3",
   "language": "python",
   "name": "python3"
  },
  "language_info": {
   "codemirror_mode": {
    "name": "ipython",
    "version": 3
   },
   "file_extension": ".py",
   "mimetype": "text/x-python",
   "name": "python",
   "nbconvert_exporter": "python",
   "pygments_lexer": "ipython3",
   "version": "3.12.4"
  }
 },
 "nbformat": 4,
 "nbformat_minor": 4
}
