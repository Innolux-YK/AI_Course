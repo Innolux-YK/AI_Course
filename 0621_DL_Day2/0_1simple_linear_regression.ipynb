{
 "cells": [
  {
   "cell_type": "markdown",
   "metadata": {
    "id": "bCJZuYwitRyP"
   },
   "source": [
    "### Outline\n",
    "- **建立模型**: 介紹 pytorch 中建立模型的方式。\n",
    "- **Linear Polynomial (一元一次多項式)**: 以簡單的 NN 建立線性迴歸模型。\n",
    "- **Linear Polynomial (二元一次多項式)**: 以兩個 input 的 NN 來建立二元一次的線性迴歸模型。\n",
    "- **動手試試看 (三元一次多項式)**: 以三個 input 的 NN 建立三元一次的線性迴歸模型。"
   ]
  },
  {
   "cell_type": "markdown",
   "metadata": {},
   "source": [
    "## PyTorch 基本介紹\n",
    "\n",
    "PyTorch 是目前最受歡迎的深度學習框架之一，由 Meta AI（前 Facebook AI Research）於 2017 年開源。它的設計理念比較像是一個「隨寫隨執行」的工具。你寫到哪裡，它就馬上幫你算到哪裡，不需要事先畫好整張運算流程圖，像是隨時在筆記本上即時做計算。這樣一來，你用一般的程式邏輯（像是 for 迴圈或 if 判斷）寫程式的方式不必改變，程式出錯時也更容易找出問題。此外，PyTorch 內建了自動幫你算導數的機制，就像幫你自動做微分運算，搭配它現成的模型模組和各種調整計算速度的工具，以及方便讀取整理資料的功能，讓你從寫原型到正式訓練模型，都能快速上手、少走彎路。\n",
    "\n",
    "| 名稱                          | 說明                                                                                                                                                 |\n",
    "|-------------------------------|------------------------------------------------------------------------------------------------------------------------------------------------------|\n",
    "| 張量 (Tensor)                 | 多維陣列結構，類似 NumPy ndarray，但可利用 GPU 加速運算。                                                                                              |\n",
    "| 設備管理 (Device)             | 用於指定運算裝置（CPU 或 CUDA GPU），並可透過 `.to(device)` 方法在裝置間搬移張量與模型。                                                               |\n",
    "| NumPy 互轉                    | 張量與 NumPy 陣列可相互轉換，便於與現有科學計算生態整合。`torch.from_numpy(ndarray)`與`Tensor.numpy()`                                    |\n",
    "| Autograd（自動求導）          | 自動微分引擎，透過在張量上設定 `requires_grad=True` 即可追蹤梯度，並在呼叫 `backward()` 時自動計算並累積梯度。                                         |\n",
    "| Dataset（資料集）             | 繼承並實作 `__len__()` 與 `__getitem__()` 的類別，用以統一資料讀取介面，支援自訂與內建資料集。                                                           |\n",
    "| DataLoader（資料載入器）       | 負責批次化資料、隨機洗牌、並行讀取等功能，常與 Dataset 配合使用以簡化訓練流程。                                                                        |\n",
    "| Data Generator                | 可邊讀邊產生資料，動態生成樣本或批次，適合大型資料或即時資料擴增場景。                                     |\n",
    "| 模型定義 (`nn.Module`)        | 所有神經網路模型皆繼承自 `torch.nn.Module`，在 `__init__()` 定義層結構，並於 `forward()` 中實作前向傳播。                                              |\n",
    "| 損失函數 (Loss Function)      | 衡量模型預測與真實標籤差距的函數，常見如交叉熵（CrossEntropyLoss）、均方誤差（MSELoss）等。                                                             |\n",
    "| 優化器 (Optimizer)            | 根據計算出的梯度更新模型參數，常見如 SGD、Adam 等，皆位於 `torch.optim` 模組。                                                                         |\n",
    "| 訓練迴圈 (Training Loop)      | 一個 epoch 中遍歷所有批次：前向傳播 → 計算損失 → 反向傳播 → 參數更新，用以逐步優化模型。                                                               |\n",
    "| Save & Load Model – state_dict | 儲存模型權重：`torch.save(model.state_dict(), path)`；載入時先建立相同結構模型，再用 `model.load_state_dict(torch.load(path))` 恢復參數。                   |\n",
    "| Save & Load Model – 完整模型   | 儲存完整模型：`torch.save(model, path)`；載入時直接呼叫 `model = torch.load(path)` 即可。                                                               |"
   ]
  },
  {
   "cell_type": "markdown",
   "metadata": {
    "id": "nveYn51TzhbW"
   },
   "source": [
    "# 載入函數"
   ]
  },
  {
   "cell_type": "code",
   "execution_count": 143,
   "metadata": {
    "colab": {
     "base_uri": "https://localhost:8080/"
    },
    "executionInfo": {
     "elapsed": 14198,
     "status": "ok",
     "timestamp": 1723687332317,
     "user": {
      "displayName": "Michael Chang",
      "userId": "17202199263773585491"
     },
     "user_tz": -480
    },
    "id": "z47LHtsztRyR",
    "outputId": "fff82106-225b-442d-ac15-c1d8fc87bbb3"
   },
   "outputs": [
    {
     "name": "stdout",
     "output_type": "stream",
     "text": [
      "Requirement already satisfied: torchsummary in c:\\users\\yukai01.lin\\appdata\\local\\programs\\python\\python312\\lib\\site-packages (1.5.1)\n"
     ]
    }
   ],
   "source": [
    "!pip install torchsummary"
   ]
  },
  {
   "cell_type": "code",
   "execution_count": 144,
   "metadata": {
    "id": "qH-kL9VozhbX"
   },
   "outputs": [],
   "source": [
    "import numpy as np\n",
    "from tqdm import tqdm\n",
    "import matplotlib.pyplot as plt\n",
    "# torch api\n",
    "import torch\n",
    "import torch.nn as nn\n",
    "import torch.nn.functional as F\n",
    "from torch.utils.data import Dataset, DataLoader\n",
    "import torch.optim as optim\n",
    "import torchvision\n",
    "from torchsummary import summary\n",
    "from sklearn.metrics import mean_squared_error"
   ]
  },
  {
   "cell_type": "code",
   "execution_count": 145,
   "metadata": {
    "id": "UlkFhV_ntRyT"
   },
   "outputs": [
    {
     "data": {
      "text/plain": [
       "device(type='cpu')"
      ]
     },
     "execution_count": 145,
     "metadata": {},
     "output_type": "execute_result"
    }
   ],
   "source": [
    "# device add gpu\n",
    "\n",
    "device = torch.device(\"cuda\" if torch.cuda.is_available() else \"cpu\")       # 使用Nvidia 顯卡\n",
    "device"
   ]
  },
  {
   "cell_type": "markdown",
   "metadata": {
    "id": "oYgr11pGzhbk"
   },
   "source": [
    "# 一、如何建立模型\n",
    "\n",
    "接下來，我們使用 `Pytorch` 來建立模型，並且訓練模型來擬合線性函數 $y=wx+b$\n",
    "\n",
    "在 Pytorch 中，有兩種建立模型的方式，分別是：\n",
    "\n",
    "* `Sequential API`\n",
    "* `Model subclassing`"
   ]
  },
  {
   "cell_type": "markdown",
   "metadata": {
    "id": "LeuKliKtzhbk"
   },
   "source": [
    "## 1. Sequential API\n",
    "\n",
    "Sequential API 的方式是透過 `nn.Sequential` 不斷的往後疊加層數，這種方式對於一些簡單的模型來說非常方便，但是就沒辦法實現比較複雜的模型。"
   ]
  },
  {
   "cell_type": "markdown",
   "metadata": {
    "id": "jjVtKBJhtRyU"
   },
   "source": [
    "https://pytorch.org/docs/stable/generated/torch.nn.Linear.html"
   ]
  },
  {
   "cell_type": "code",
   "execution_count": 146,
   "metadata": {
    "colab": {
     "base_uri": "https://localhost:8080/"
    },
    "executionInfo": {
     "elapsed": 450,
     "status": "ok",
     "timestamp": 1723687359890,
     "user": {
      "displayName": "Michael Chang",
      "userId": "17202199263773585491"
     },
     "user_tz": -480
    },
    "id": "C2xGXtQKtRyU",
    "outputId": "8a93f60b-d1c6-4e65-dc58-a9d73a6ef812"
   },
   "outputs": [
    {
     "name": "stdout",
     "output_type": "stream",
     "text": [
      "----------------------------------------------------------------\n",
      "        Layer (type)               Output Shape         Param #\n",
      "================================================================\n",
      "            Linear-1                    [-1, 1]               2\n",
      "================================================================\n",
      "Total params: 2\n",
      "Trainable params: 2\n",
      "Non-trainable params: 0\n",
      "----------------------------------------------------------------\n",
      "Input size (MB): 0.00\n",
      "Forward/backward pass size (MB): 0.00\n",
      "Params size (MB): 0.00\n",
      "Estimated Total Size (MB): 0.00\n",
      "----------------------------------------------------------------\n"
     ]
    }
   ],
   "source": [
    "# 建立模型, nn.Linear為全連接層\n",
    "model_1 = nn.Sequential(nn.Linear(in_features = 1, out_features = 1, bias=True))\n",
    "\n",
    "# 將模型載入gpu中\n",
    "model_1 = model_1.to(device)\n",
    "\n",
    "# 查看模型的架構\n",
    "summary(model_1, input_size = (1, ))"
   ]
  },
  {
   "cell_type": "code",
   "execution_count": 147,
   "metadata": {
    "colab": {
     "base_uri": "https://localhost:8080/"
    },
    "executionInfo": {
     "elapsed": 517,
     "status": "ok",
     "timestamp": 1723687362213,
     "user": {
      "displayName": "Michael Chang",
      "userId": "17202199263773585491"
     },
     "user_tz": -480
    },
    "id": "nm8XRKdDtRyU",
    "outputId": "14374794-9dff-4a26-83c3-5f95d55941cb"
   },
   "outputs": [
    {
     "data": {
      "text/plain": [
       "Sequential(\n",
       "  (0): Linear(in_features=1, out_features=1, bias=True)\n",
       ")"
      ]
     },
     "execution_count": 147,
     "metadata": {},
     "output_type": "execute_result"
    }
   ],
   "source": [
    "model_1"
   ]
  },
  {
   "cell_type": "code",
   "execution_count": 148,
   "metadata": {
    "colab": {
     "base_uri": "https://localhost:8080/"
    },
    "executionInfo": {
     "elapsed": 328,
     "status": "ok",
     "timestamp": 1723687364251,
     "user": {
      "displayName": "Michael Chang",
      "userId": "17202199263773585491"
     },
     "user_tz": -480
    },
    "id": "UsVVu4F2zhbq",
    "outputId": "68939d39-d35b-44ba-c580-085166e9f045"
   },
   "outputs": [
    {
     "name": "stdout",
     "output_type": "stream",
     "text": [
      "Parameter containing:\n",
      "tensor([[0.5136]], requires_grad=True)\n",
      "Parameter containing:\n",
      "tensor([-0.1536], requires_grad=True)\n"
     ]
    }
   ],
   "source": [
    "# 觀察參數，要先查看模型架構的名稱再來使用.weight查看weight，這裡顯示的是初始權重值\n",
    "print(model_1[0].weight)\n",
    "# 觀察參數，要先查看模型架構的名稱再來使用.bias查看bias，這裡顯示的是初始權重值\n",
    "print(model_1[0].bias)"
   ]
  },
  {
   "cell_type": "markdown",
   "metadata": {
    "id": "LBev-bYOGTLZ"
   },
   "source": [
    "## 2. Model subclassing\n",
    "\n",
    "Model subclassing 雖然看起來很複雜，但是在之後實現一些特別複雜的模型就非常方便，透過 `class` 可以將很多層包在一起，可讀性也會比較好。\n",
    "\n",
    "使用 Model subclassing 要先進行繼承，因為我們要實現的是全連結層，所以繼承對象的層級是 `nn.Module`。"
   ]
  },
  {
   "cell_type": "markdown",
   "metadata": {
    "id": "Sz0nBLf6tRyV"
   },
   "source": [
    "目前主流的所有模型架構皆使用此方法，也可以將nn.Sequential加入model subclassing中。"
   ]
  },
  {
   "cell_type": "markdown",
   "metadata": {
    "id": "n61_DYbHtRyV"
   },
   "source": [
    "```bash\n",
    "class DNN(nn.Module):\n",
    "    def __init__(self):\n",
    "        super(DNN, self).__init__()\n",
    "        # 定義初始化參數\n",
    "        # 模型的layer初始化寫在此處，如：nn.Linear等\n",
    "        \n",
    "        \n",
    "    def forward(self, x):\n",
    "        # 模型的feed forward過程，模型往前走的過程\n",
    "        # x為輸入進來的tensor\n",
    "```"
   ]
  },
  {
   "cell_type": "code",
   "execution_count": 149,
   "metadata": {
    "id": "nSbauFwmtRyV"
   },
   "outputs": [],
   "source": [
    "class DNN(nn.Module):\n",
    "    def __init__(self):\n",
    "        super(DNN, self).__init__()\n",
    "        self.fc = nn.Linear(in_features = 1, out_features = 1, bias = True)\n",
    "\n",
    "    def forward(self, x):\n",
    "        output = self.fc(x)\n",
    "        return output"
   ]
  },
  {
   "cell_type": "code",
   "execution_count": 150,
   "metadata": {
    "colab": {
     "base_uri": "https://localhost:8080/"
    },
    "executionInfo": {
     "elapsed": 501,
     "status": "ok",
     "timestamp": 1723687371467,
     "user": {
      "displayName": "Michael Chang",
      "userId": "17202199263773585491"
     },
     "user_tz": -480
    },
    "id": "Fo0JCrskJD_w",
    "outputId": "e6d6dd41-c588-47e8-9775-0925c4ae4e6f"
   },
   "outputs": [
    {
     "name": "stdout",
     "output_type": "stream",
     "text": [
      "----------------------------------------------------------------\n",
      "        Layer (type)               Output Shape         Param #\n",
      "================================================================\n",
      "            Linear-1                    [-1, 1]               2\n",
      "================================================================\n",
      "Total params: 2\n",
      "Trainable params: 2\n",
      "Non-trainable params: 0\n",
      "----------------------------------------------------------------\n",
      "Input size (MB): 0.00\n",
      "Forward/backward pass size (MB): 0.00\n",
      "Params size (MB): 0.00\n",
      "Estimated Total Size (MB): 0.00\n",
      "----------------------------------------------------------------\n"
     ]
    }
   ],
   "source": [
    "model_2 = DNN().to(device)\n",
    "summary(model_2, input_size = (1,))"
   ]
  },
  {
   "cell_type": "code",
   "execution_count": 151,
   "metadata": {
    "colab": {
     "base_uri": "https://localhost:8080/"
    },
    "executionInfo": {
     "elapsed": 353,
     "status": "ok",
     "timestamp": 1723687373288,
     "user": {
      "displayName": "Michael Chang",
      "userId": "17202199263773585491"
     },
     "user_tz": -480
    },
    "id": "m0v_f-mgtRyV",
    "outputId": "a3a6bd36-6c10-4176-d1f4-b85813afe78d"
   },
   "outputs": [
    {
     "data": {
      "text/plain": [
       "DNN(\n",
       "  (fc): Linear(in_features=1, out_features=1, bias=True)\n",
       ")"
      ]
     },
     "execution_count": 151,
     "metadata": {},
     "output_type": "execute_result"
    }
   ],
   "source": [
    "model_2"
   ]
  },
  {
   "cell_type": "code",
   "execution_count": 152,
   "metadata": {
    "colab": {
     "base_uri": "https://localhost:8080/"
    },
    "executionInfo": {
     "elapsed": 522,
     "status": "ok",
     "timestamp": 1723687374330,
     "user": {
      "displayName": "Michael Chang",
      "userId": "17202199263773585491"
     },
     "user_tz": -480
    },
    "id": "2GRxjeMVKgG_",
    "outputId": "c8caed0b-61b6-4dac-ea99-eb4b9bf2e37b"
   },
   "outputs": [
    {
     "name": "stdout",
     "output_type": "stream",
     "text": [
      "Parameter containing:\n",
      "tensor([[0.8912]], requires_grad=True)\n",
      "Parameter containing:\n",
      "tensor([0.5774], requires_grad=True)\n"
     ]
    }
   ],
   "source": [
    "# 由於名稱是fc，所以我們是拉fc來查看weights 與 bias\n",
    "print(model_2.fc.weight)\n",
    "print(model_2.fc.bias)"
   ]
  },
  {
   "cell_type": "markdown",
   "metadata": {
    "id": "hMBYwHVZtRyW"
   },
   "source": [
    "# 二、Linear Polynomial(一元一次多項式)，使用模型來進行一個訓練的流程"
   ]
  },
  {
   "cell_type": "markdown",
   "metadata": {
    "id": "JGkxysEMzhbg"
   },
   "source": [
    "使用 numpy 來模擬簡單的線性函數，首先準備資料集\n",
    "\n",
    "$$\n",
    " y = wx + b\n",
    "$$"
   ]
  },
  {
   "cell_type": "markdown",
   "metadata": {
    "id": "a8UbvbqqtRyW"
   },
   "source": [
    "## 1. 準備資料集"
   ]
  },
  {
   "cell_type": "code",
   "execution_count": 153,
   "metadata": {
    "colab": {
     "base_uri": "https://localhost:8080/",
     "height": 647
    },
    "executionInfo": {
     "elapsed": 575,
     "status": "ok",
     "timestamp": 1723687410168,
     "user": {
      "displayName": "Michael Chang",
      "userId": "17202199263773585491"
     },
     "user_tz": -480
    },
    "id": "5ES33vyfzhbg",
    "outputId": "bbe60289-552b-4359-8a96-035227b5aaa1"
   },
   "outputs": [
    {
     "name": "stderr",
     "output_type": "stream",
     "text": [
      "<>:12: SyntaxWarning: invalid escape sequence '\\e'\n",
      "<>:12: SyntaxWarning: invalid escape sequence '\\e'\n",
      "C:\\TEMP\\ipykernel_20668\\2072964170.py:12: SyntaxWarning: invalid escape sequence '\\e'\n",
      "  plt.scatter(x_in, y_noise, c = 'b', label='3x + 10 + $\\epsilon$')\n"
     ]
    },
    {
     "data": {
      "image/png": "[encoded data removed]",
      "text/plain": [
       "<Figure size 1000x800 with 1 Axes>"
      ]
     },
     "metadata": {},
     "output_type": "display_data"
    }
   ],
   "source": [
    "# 準備資料\n",
    "x_in = np.float32(np.linspace(0, 1, 100))\n",
    "noise = np.float32(np.random.normal(0, 0.1, size=len(x_in)))\n",
    "\n",
    "# 設定 W=3, b=10，是模型學習參數的最終目標\n",
    "y_true = 3 * x_in + 10\n",
    "# 加上 noise，模擬在真實世界抽樣的結果\n",
    "y_noise = y_true + noise\n",
    "\n",
    "# 視覺化資料\n",
    "plt.figure(figsize=(10, 8))\n",
    "plt.scatter(x_in, y_noise, c = 'b', label='3x + 10 + $\\epsilon$')\n",
    "plt.axis(xmin=0, xmax=1)\n",
    "plt.legend(fontsize = 15)\n",
    "plt.show()"
   ]
  },
  {
   "cell_type": "code",
   "execution_count": 154,
   "metadata": {
    "colab": {
     "base_uri": "https://localhost:8080/"
    },
    "executionInfo": {
     "elapsed": 1,
     "status": "ok",
     "timestamp": 1723687413327,
     "user": {
      "displayName": "Michael Chang",
      "userId": "17202199263773585491"
     },
     "user_tz": -480
    },
    "id": "ZtbRqX-mMOJp",
    "outputId": "13e93d97-bc9f-41a9-b795-ce5c0e3e0175"
   },
   "outputs": [
    {
     "name": "stdout",
     "output_type": "stream",
     "text": [
      "x_in_shape: (100,)\n",
      "y_true_shape: (100,)\n",
      "y_noise_shape: (100,)\n"
     ]
    }
   ],
   "source": [
    "print('x_in_shape:', x_in.shape)\n",
    "print('y_true_shape:', y_true.shape)\n",
    "print('y_noise_shape:', y_noise.shape)"
   ]
  },
  {
   "cell_type": "code",
   "execution_count": 155,
   "metadata": {
    "id": "U2CJwWCTtRyW"
   },
   "outputs": [],
   "source": [
    "# 包成可供模型訓練的資料型態\n",
    "Train_list = []\n",
    "\n",
    "for i in range(len(x_in)):\n",
    "    Train_list.append([np.array([x_in[i]]), np.array([y_noise[i]])])"
   ]
  },
  {
   "cell_type": "markdown",
   "metadata": {
    "id": "u9BRseD9M3yb"
   },
   "source": [
    "## 2. 建立模型\n",
    "\n",
    "接下來使用 model subclassing 的方式建立模型。"
   ]
  },
  {
   "cell_type": "code",
   "execution_count": 156,
   "metadata": {
    "colab": {
     "base_uri": "https://localhost:8080/"
    },
    "executionInfo": {
     "elapsed": 429,
     "status": "ok",
     "timestamp": 1723687420659,
     "user": {
      "displayName": "Michael Chang",
      "userId": "17202199263773585491"
     },
     "user_tz": -480
    },
    "id": "yEoRpj7uM3Lr",
    "outputId": "20121d93-c45b-44c0-aefe-795e9ffef5a2"
   },
   "outputs": [
    {
     "data": {
      "text/plain": [
       "DNN(\n",
       "  (fc): Linear(in_features=1, out_features=1, bias=True)\n",
       ")"
      ]
     },
     "execution_count": 156,
     "metadata": {},
     "output_type": "execute_result"
    }
   ],
   "source": [
    "class DNN(nn.Module):\n",
    "    def __init__(self):\n",
    "        super(DNN, self).__init__()\n",
    "        self.fc = nn.Linear(in_features = 1, out_features = 1, bias = True)\n",
    "\n",
    "    def forward(self, x):\n",
    "        output = self.fc(x)\n",
    "        return output\n",
    "\n",
    "model = DNN().to(device)\n",
    "model"
   ]
  },
  {
   "cell_type": "markdown",
   "metadata": {
    "id": "9V5e70WDN6XU",
    "tags": []
   },
   "source": [
    "## 還沒訓練時的預測表現"
   ]
  },
  {
   "cell_type": "markdown",
   "metadata": {
    "id": "MGftvLmtVogy"
   },
   "source": [
    "### 查看模型參數\n",
    "\n",
    "使用 `.weights` 以及 `.bias` 可以拿取模型所有的參數"
   ]
  },
  {
   "cell_type": "code",
   "execution_count": 157,
   "metadata": {
    "colab": {
     "base_uri": "https://localhost:8080/"
    },
    "executionInfo": {
     "elapsed": 322,
     "status": "ok",
     "timestamp": 1723687422953,
     "user": {
      "displayName": "Michael Chang",
      "userId": "17202199263773585491"
     },
     "user_tz": -480
    },
    "id": "IyRJkYQjVkJ4",
    "outputId": "9b1eeb8e-02ea-445a-83b1-360fa2586559"
   },
   "outputs": [
    {
     "name": "stdout",
     "output_type": "stream",
     "text": [
      "w_true: 3 \n",
      "b_true: 10\n",
      "----------\n",
      "w_pred: tensor([[-0.2216]]) \n",
      "b_pred: tensor([-0.9559])\n"
     ]
    }
   ],
   "source": [
    "print('w_true:', 3, '\\nb_true:', 10)\n",
    "print('-'*10)\n",
    "print('w_pred:', model.fc.weight.data, '\\nb_pred:', model.fc.bias.data)"
   ]
  },
  {
   "cell_type": "markdown",
   "metadata": {
    "id": "db8Cz0SgtRyX"
   },
   "source": [
    "### 試著先用還沒有訓練過的權重預測結果\n",
    "\n",
    "模型預測：預測結果 = model(預測的資料)\n",
    "* 預測的資料維度要為 (batch_size, 輸入資料)\n",
    "* 預測的資料要轉換成 pytorch tensor 才能進行預測"
   ]
  },
  {
   "cell_type": "code",
   "execution_count": 158,
   "metadata": {
    "colab": {
     "base_uri": "https://localhost:8080/"
    },
    "executionInfo": {
     "elapsed": 2,
     "status": "ok",
     "timestamp": 1723687428874,
     "user": {
      "displayName": "Michael Chang",
      "userId": "17202199263773585491"
     },
     "user_tz": -480
    },
    "id": "GNYBHWawtRyX",
    "outputId": "78397b7b-7ff5-4def-8e3a-75a953a3cfea"
   },
   "outputs": [
    {
     "name": "stdout",
     "output_type": "stream",
     "text": [
      "x_in.shape: (100,)\n",
      "batch_x_in.shape: (100, 1)\n"
     ]
    }
   ],
   "source": [
    "# 維度從 (100,) -> (100,1)\n",
    "batch_x_in = np.reshape(x_in, (-1,1))\n",
    "print('x_in.shape:', x_in.shape)\n",
    "print('batch_x_in.shape:', batch_x_in.shape)"
   ]
  },
  {
   "cell_type": "code",
   "execution_count": 159,
   "metadata": {
    "colab": {
     "base_uri": "https://localhost:8080/"
    },
    "executionInfo": {
     "elapsed": 488,
     "status": "ok",
     "timestamp": 1723687456275,
     "user": {
      "displayName": "Michael Chang",
      "userId": "17202199263773585491"
     },
     "user_tz": -480
    },
    "id": "Mg6sKlZnxuhc",
    "outputId": "e7335f90-eea0-41e8-e6ea-68d57c429ac6"
   },
   "outputs": [
    {
     "name": "stdout",
     "output_type": "stream",
     "text": [
      "[0.         0.01010101 0.02020202 0.03030303 0.04040404 0.05050505\n",
      " 0.06060606 0.07070707 0.08080808 0.09090909 0.1010101  0.11111111\n",
      " 0.12121212 0.13131313 0.14141414 0.15151516 0.16161616 0.17171717\n",
      " 0.18181819 0.1919192  0.2020202  0.21212122 0.22222222 0.23232323\n",
      " 0.24242425 0.25252524 0.26262626 0.27272728 0.28282827 0.2929293\n",
      " 0.3030303  0.3131313  0.32323232 0.33333334 0.34343433 0.35353535\n",
      " 0.36363637 0.37373737 0.3838384  0.3939394  0.4040404  0.41414142\n",
      " 0.42424244 0.43434343 0.44444445 0.45454547 0.46464646 0.47474748\n",
      " 0.4848485  0.4949495  0.5050505  0.5151515  0.5252525  0.53535354\n",
      " 0.54545456 0.5555556  0.56565654 0.57575756 0.5858586  0.5959596\n",
      " 0.6060606  0.61616164 0.6262626  0.6363636  0.64646465 0.65656567\n",
      " 0.6666667  0.67676765 0.68686867 0.6969697  0.7070707  0.7171717\n",
      " 0.72727275 0.7373737  0.74747473 0.75757575 0.7676768  0.7777778\n",
      " 0.7878788  0.7979798  0.8080808  0.8181818  0.82828283 0.83838385\n",
      " 0.8484849  0.85858583 0.86868685 0.8787879  0.8888889  0.8989899\n",
      " 0.90909094 0.9191919  0.9292929  0.93939394 0.94949496 0.959596\n",
      " 0.969697   0.97979796 0.989899   1.        ]\n",
      "[[0.        ]\n",
      " [0.01010101]\n",
      " [0.02020202]\n",
      " [0.03030303]\n",
      " [0.04040404]\n",
      " [0.05050505]\n",
      " [0.06060606]\n",
      " [0.07070707]\n",
      " [0.08080808]\n",
      " [0.09090909]\n",
      " [0.1010101 ]\n",
      " [0.11111111]\n",
      " [0.12121212]\n",
      " [0.13131313]\n",
      " [0.14141414]\n",
      " [0.15151516]\n",
      " [0.16161616]\n",
      " [0.17171717]\n",
      " [0.18181819]\n",
      " [0.1919192 ]\n",
      " [0.2020202 ]\n",
      " [0.21212122]\n",
      " [0.22222222]\n",
      " [0.23232323]\n",
      " [0.24242425]\n",
      " [0.25252524]\n",
      " [0.26262626]\n",
      " [0.27272728]\n",
      " [0.28282827]\n",
      " [0.2929293 ]\n",
      " [0.3030303 ]\n",
      " [0.3131313 ]\n",
      " [0.32323232]\n",
      " [0.33333334]\n",
      " [0.34343433]\n",
      " [0.35353535]\n",
      " [0.36363637]\n",
      " [0.37373737]\n",
      " [0.3838384 ]\n",
      " [0.3939394 ]\n",
      " [0.4040404 ]\n",
      " [0.41414142]\n",
      " [0.42424244]\n",
      " [0.43434343]\n",
      " [0.44444445]\n",
      " [0.45454547]\n",
      " [0.46464646]\n",
      " [0.47474748]\n",
      " [0.4848485 ]\n",
      " [0.4949495 ]\n",
      " [0.5050505 ]\n",
      " [0.5151515 ]\n",
      " [0.5252525 ]\n",
      " [0.53535354]\n",
      " [0.54545456]\n",
      " [0.5555556 ]\n",
      " [0.56565654]\n",
      " [0.57575756]\n",
      " [0.5858586 ]\n",
      " [0.5959596 ]\n",
      " [0.6060606 ]\n",
      " [0.61616164]\n",
      " [0.6262626 ]\n",
      " [0.6363636 ]\n",
      " [0.64646465]\n",
      " [0.65656567]\n",
      " [0.6666667 ]\n",
      " [0.67676765]\n",
      " [0.68686867]\n",
      " [0.6969697 ]\n",
      " [0.7070707 ]\n",
      " [0.7171717 ]\n",
      " [0.72727275]\n",
      " [0.7373737 ]\n",
      " [0.74747473]\n",
      " [0.75757575]\n",
      " [0.7676768 ]\n",
      " [0.7777778 ]\n",
      " [0.7878788 ]\n",
      " [0.7979798 ]\n",
      " [0.8080808 ]\n",
      " [0.8181818 ]\n",
      " [0.82828283]\n",
      " [0.83838385]\n",
      " [0.8484849 ]\n",
      " [0.85858583]\n",
      " [0.86868685]\n",
      " [0.8787879 ]\n",
      " [0.8888889 ]\n",
      " [0.8989899 ]\n",
      " [0.90909094]\n",
      " [0.9191919 ]\n",
      " [0.9292929 ]\n",
      " [0.93939394]\n",
      " [0.94949496]\n",
      " [0.959596  ]\n",
      " [0.969697  ]\n",
      " [0.97979796]\n",
      " [0.989899  ]\n",
      " [1.        ]]\n"
     ]
    }
   ],
   "source": [
    "print(x_in)\n",
    "print(batch_x_in)"
   ]
  },
  {
   "cell_type": "code",
   "execution_count": 160,
   "metadata": {
    "id": "DPurBK9rtRyX"
   },
   "outputs": [],
   "source": [
    "# 將 numpy array 轉換成 pytorch tensor，並輸入進 gpu 中\n",
    "batch_x_in = torch.from_numpy(batch_x_in).to(device)"
   ]
  },
  {
   "cell_type": "code",
   "execution_count": 161,
   "metadata": {
    "id": "lJwx4wvctRyY"
   },
   "outputs": [],
   "source": [
    "# 模型預測\n",
    "y_pred = model(batch_x_in)"
   ]
  },
  {
   "cell_type": "code",
   "execution_count": 162,
   "metadata": {
    "colab": {
     "base_uri": "https://localhost:8080/"
    },
    "executionInfo": {
     "elapsed": 3,
     "status": "ok",
     "timestamp": 1723687538739,
     "user": {
      "displayName": "Michael Chang",
      "userId": "17202199263773585491"
     },
     "user_tz": -480
    },
    "id": "lr4dwM38OUEA",
    "outputId": "77304948-51bc-4b75-dd33-c8c532749318"
   },
   "outputs": [
    {
     "name": "stdout",
     "output_type": "stream",
     "text": [
      "tensor([[-0.9559],\n",
      "        [-0.9581],\n",
      "        [-0.9603],\n",
      "        [-0.9626],\n",
      "        [-0.9648],\n",
      "        [-0.9670],\n",
      "        [-0.9693],\n",
      "        [-0.9715],\n",
      "        [-0.9738],\n",
      "        [-0.9760]], grad_fn=<SliceBackward0>)\n"
     ]
    }
   ],
   "source": [
    "# 觀看前 10 筆預測值\n",
    "print(y_pred[:10])"
   ]
  },
  {
   "cell_type": "code",
   "execution_count": 163,
   "metadata": {
    "colab": {
     "base_uri": "https://localhost:8080/"
    },
    "executionInfo": {
     "elapsed": 448,
     "status": "ok",
     "timestamp": 1723687542087,
     "user": {
      "displayName": "Michael Chang",
      "userId": "17202199263773585491"
     },
     "user_tz": -480
    },
    "id": "XfxloflYPIS6",
    "outputId": "a6c53f57-6a5b-4ac2-ae80-b1f391765e3e"
   },
   "outputs": [
    {
     "name": "stdout",
     "output_type": "stream",
     "text": [
      "MSE: 158.9238\n"
     ]
    }
   ],
   "source": [
    "# 將預測的結果載入到 cpu，並轉回 numpy 格式\n",
    "y_pred = y_pred.cpu().data.numpy()\n",
    "y_pred = np.squeeze(y_pred)\n",
    "\n",
    "# 計算 loss\n",
    "mse = mean_squared_error(y_pred=y_pred, y_true=y_noise)\n",
    "print('MSE: %.4f' % mse)"
   ]
  },
  {
   "cell_type": "markdown",
   "metadata": {
    "id": "YVflZl7iPKg6"
   },
   "source": [
    "### 視覺化結果\n",
    "\n",
    "\b\b因為還沒開始訓練，所以預測表現不好。"
   ]
  },
  {
   "cell_type": "code",
   "execution_count": 164,
   "metadata": {
    "colab": {
     "base_uri": "https://localhost:8080/",
     "height": 679
    },
    "executionInfo": {
     "elapsed": 889,
     "status": "ok",
     "timestamp": 1723687548020,
     "user": {
      "displayName": "Michael Chang",
      "userId": "17202199263773585491"
     },
     "user_tz": -480
    },
    "id": "r4RQPNKiOlgg",
    "outputId": "187da13b-8203-4407-9826-a9edac77e139"
   },
   "outputs": [
    {
     "data": {
      "image/png": "[encoded data removed]",
      "text/plain": [
       "<Figure size 1000x800 with 1 Axes>"
      ]
     },
     "metadata": {},
     "output_type": "display_data"
    }
   ],
   "source": [
    "# 視覺化資料\n",
    "w_pred = model.fc.weight.data[0][0]\n",
    "b_pred = model.fc.bias.data[0]\n",
    "plt.figure(figsize=(10, 8))\n",
    "plt.scatter(x_in, y_noise, c = 'b', label='3x + 10 + $\\\\epsilon$')\n",
    "plt.scatter(x_in, y_pred, c = 'g', label='%1.4fx + %1.4f' % (w_pred, b_pred))\n",
    "plt.title(f'loss={mse:.4f}')\n",
    "plt.axis(xmin=0, xmax=1)\n",
    "plt.legend(fontsize = 15)\n",
    "plt.show()"
   ]
  },
  {
   "cell_type": "markdown",
   "metadata": {},
   "source": [
    "### 各部分功能\n",
    "1. 提取模型參數\n",
    "- w_pred = model.fc.weight.data[0][0] - 獲取訓練後的權重（斜率）\n",
    "- b_pred = model.fc.bias.data[0] - 獲取訓練後的偏置（截距）\n",
    "\n",
    "2. 建立圖表\n",
    "- plt.figure(figsize=(10, 8)) - 創建 10×8 英吋的圖表\n",
    "\n",
    "3. 繪製散點圖\n",
    "- 藍色點：plt.scatter(x_in, y_noise, c='b')\n",
    "  * 顯示原始帶雜訊的資料\n",
    "  * 標籤：'3x + 10 + $\\\\epsilon$'（真實函數）\n",
    "- 綠色點：plt.scatter(x_in, y_pred, c='g')\n",
    "  * 顯示模型預測結果\n",
    "  * 標籤：動態顯示學習到的參數 'w_pred×x + b_pred'\n",
    "  * \n",
    "4. 圖表裝飾\n",
    "- plt.title(f'loss={mse:.4f}') - 顯示MSE 損失值\n",
    "- plt.axis(xmin=0, xmax=1) - 設定 x 軸範圍為 0-1\n",
    "- plt.legend(fontsize=15) - 顯示圖例，字體大小 15\n",
    "視覺化目的\n",
    "這個圖表幫助您：\n",
    "\n",
    "✅ 評估模型效果：綠色預測點與藍色真實點越接近 = 模型訓練越成功\n",
    "\n",
    "✅ 比較參數學習：觀察學習到的 w_pred, b_pred 與目標值 w=3, b=10 的差異\n",
    "\n",
    "✅ 直觀理解損失：通過視覺化直接看出模型的擬合程度\n",
    "\n",
    "預期結果\n",
    "- 訓練前：綠色點散亂，與藍色點差異很大\n",
    "- 訓練後：綠色點應該與藍色點重疊，形成近似 y = 3x + 10 的直線\n",
    "這是深度學習中非常重要的可視化驗證步驟！"
   ]
  },
  {
   "cell_type": "markdown",
   "metadata": {
    "id": "pIZL969Uzhb0"
   },
   "source": [
    "## 3. 模型的設定\n",
    "\n",
    "pytorch 在訓練模型前，需要設定損失函數 (loss function) 、優化器 (optimizer)。\n",
    "\n",
    "迴歸任務參數：\n",
    "* `loss`: 迴歸問題的損失函數常常使用 `mean_squared_error`, `mean_absolute_error`，更多其他的損失函數可以參考 https://pytorch.org/docs/stable/nn.html#loss-functions 。\n",
    "* `optimizer`: 優化器決定參數更新的方式，目前最常使用的優化器為 `SGD, RMSprop, Adam`，更多其他的優化器可以參考 https://pytorch.org/docs/stable/optim.html#algorithms 。\n",
    "\n",
    "為什麼需要這兩個組件？\n",
    "- 損失函數：提供一個量化的方式來評估模型表現，告訴我們「預測有多錯」\n",
    "- 優化器：根據損失函數的梯度來更新模型參數，實現「如何改進模型」\n",
    "\n",
    "這兩個組件是 PyTorch 訓練循環中不可或缺的核心元素！"
   ]
  },
  {
   "cell_type": "code",
   "execution_count": 165,
   "metadata": {
    "id": "DLPCwPk3tRyY"
   },
   "outputs": [],
   "source": [
    "# 設定 loss function\n",
    "criterion = nn.MSELoss()\n",
    "# 設定 learning rate\n",
    "lr = 1e-2\n",
    "# 設定訓練的 epoch 數量\n",
    "epochs = 100\n",
    "# 設定優化器，這裡以sgd為例\n",
    "optimizer = optim.SGD(model.parameters(), lr=lr, momentum=0.9)"
   ]
  },
  {
   "cell_type": "markdown",
   "metadata": {
    "id": "FOhb2XgGtRyZ"
   },
   "source": [
    "## 4. 模型的訓練\n",
    "\n",
    "在 pytorch 的模型訓練中，我們需要有幾個步驟來完成訓練:\n",
    "1. 使用迴圈來決定要訓練幾個 epoch\n",
    "2. 一次訓練一個 batch，看完所有的訓練資料後就結束一個 epoch\n",
    "3. 先進行模型 feed forward 的動作\n",
    "4. feed forward 後會有模型預測出來的結果，將結果去對應到真實標籤，然後計算出 loss\n",
    "5. 有 loss 的話就能回推 gradients\n",
    "6. 使用 gradients 的結果來更新 weight，這時候就是優化器來決定更新方式\n",
    "7. 重複以上步驟"
   ]
  },
  {
   "cell_type": "code",
   "execution_count": 166,
   "metadata": {
    "colab": {
     "base_uri": "https://localhost:8080/"
    },
    "executionInfo": {
     "elapsed": 12782,
     "status": "ok",
     "timestamp": 1723621197124,
     "user": {
      "displayName": "Michael Chang",
      "userId": "17202199263773585491"
     },
     "user_tz": -480
    },
    "id": "qSMSGQnszhb3",
    "outputId": "7b906ebe-85f6-4e35-c267-91aac1ee6c8e",
    "tags": []
   },
   "outputs": [
    {
     "name": "stdout",
     "output_type": "stream",
     "text": [
      "[1/100, 100/100] loss: 8.787\n",
      "[2/100, 100/100] loss: 0.591\n",
      "[3/100, 100/100] loss: 0.258\n",
      "[4/100, 100/100] loss: 0.125\n",
      "[5/100, 100/100] loss: 0.064\n",
      "[6/100, 100/100] loss: 0.036\n",
      "[2/100, 100/100] loss: 0.591\n",
      "[3/100, 100/100] loss: 0.258\n",
      "[4/100, 100/100] loss: 0.125\n",
      "[5/100, 100/100] loss: 0.064\n",
      "[6/100, 100/100] loss: 0.036\n",
      "[7/100, 100/100] loss: 0.023\n",
      "[8/100, 100/100] loss: 0.017\n",
      "[7/100, 100/100] loss: 0.023\n",
      "[8/100, 100/100] loss: 0.017\n",
      "[9/100, 100/100] loss: 0.014\n",
      "[10/100, 100/100] loss: 0.013\n",
      "[11/100, 100/100] loss: 0.012\n",
      "[12/100, 100/100] loss: 0.012\n",
      "[9/100, 100/100] loss: 0.014\n",
      "[10/100, 100/100] loss: 0.013\n",
      "[11/100, 100/100] loss: 0.012\n",
      "[12/100, 100/100] loss: 0.012\n",
      "[13/100, 100/100] loss: 0.012\n",
      "[14/100, 100/100] loss: 0.012\n",
      "[13/100, 100/100] loss: 0.012\n",
      "[14/100, 100/100] loss: 0.012\n",
      "[15/100, 100/100] loss: 0.012\n",
      "[16/100, 100/100] loss: 0.012\n",
      "[17/100, 100/100] loss: 0.012\n",
      "[18/100, 100/100] loss: 0.012\n",
      "[19/100, 100/100] loss: 0.012\n",
      "[15/100, 100/100] loss: 0.012\n",
      "[16/100, 100/100] loss: 0.012\n",
      "[17/100, 100/100] loss: 0.012\n",
      "[18/100, 100/100] loss: 0.012\n",
      "[19/100, 100/100] loss: 0.012\n",
      "[20/100, 100/100] loss: 0.011\n",
      "[20/100, 100/100] loss: 0.011\n",
      "[21/100, 100/100] loss: 0.011\n",
      "[22/100, 100/100] loss: 0.011\n",
      "[23/100, 100/100] loss: 0.011\n",
      "[24/100, 100/100] loss: 0.011\n",
      "[25/100, 100/100] loss: 0.011\n",
      "[21/100, 100/100] loss: 0.011\n",
      "[22/100, 100/100] loss: 0.011\n",
      "[23/100, 100/100] loss: 0.011\n",
      "[24/100, 100/100] loss: 0.011\n",
      "[25/100, 100/100] loss: 0.011\n",
      "[26/100, 100/100] loss: 0.011\n",
      "[26/100, 100/100] loss: 0.011\n",
      "[27/100, 100/100] loss: 0.011\n",
      "[28/100, 100/100] loss: 0.011\n",
      "[29/100, 100/100] loss: 0.011\n",
      "[30/100, 100/100] loss: 0.011\n",
      "[31/100, 100/100] loss: 0.011\n",
      "[32/100, 100/100] loss: 0.011\n",
      "[27/100, 100/100] loss: 0.011\n",
      "[28/100, 100/100] loss: 0.011\n",
      "[29/100, 100/100] loss: 0.011\n",
      "[30/100, 100/100] loss: 0.011\n",
      "[31/100, 100/100] loss: 0.011\n",
      "[32/100, 100/100] loss: 0.011\n",
      "[33/100, 100/100] loss: 0.011\n",
      "[34/100, 100/100] loss: 0.011\n",
      "[35/100, 100/100] loss: 0.011\n",
      "[36/100, 100/100] loss: 0.011\n",
      "[37/100, 100/100] loss: 0.011\n",
      "[38/100, 100/100] loss: 0.011\n",
      "[39/100, 100/100] loss: 0.011\n",
      "[33/100, 100/100] loss: 0.011\n",
      "[34/100, 100/100] loss: 0.011\n",
      "[35/100, 100/100] loss: 0.011\n",
      "[36/100, 100/100] loss: 0.011\n",
      "[37/100, 100/100] loss: 0.011\n",
      "[38/100, 100/100] loss: 0.011\n",
      "[39/100, 100/100] loss: 0.011\n",
      "[40/100, 100/100] loss: 0.011\n",
      "[41/100, 100/100] loss: 0.011\n",
      "[42/100, 100/100] loss: 0.011\n",
      "[43/100, 100/100] loss: 0.011\n",
      "[44/100, 100/100] loss: 0.011\n",
      "[45/100, 100/100] loss: 0.011\n",
      "[40/100, 100/100] loss: 0.011\n",
      "[41/100, 100/100] loss: 0.011\n",
      "[42/100, 100/100] loss: 0.011\n",
      "[43/100, 100/100] loss: 0.011\n",
      "[44/100, 100/100] loss: 0.011\n",
      "[45/100, 100/100] loss: 0.011\n",
      "[46/100, 100/100] loss: 0.011\n",
      "[47/100, 100/100] loss: 0.011\n",
      "[48/100, 100/100] loss: 0.011\n",
      "[49/100, 100/100] loss: 0.011\n",
      "[50/100, 100/100] loss: 0.011\n",
      "[51/100, 100/100] loss: 0.011\n",
      "[46/100, 100/100] loss: 0.011\n",
      "[47/100, 100/100] loss: 0.011\n",
      "[48/100, 100/100] loss: 0.011\n",
      "[49/100, 100/100] loss: 0.011\n",
      "[50/100, 100/100] loss: 0.011\n",
      "[51/100, 100/100] loss: 0.011\n",
      "[52/100, 100/100] loss: 0.011\n",
      "[53/100, 100/100] loss: 0.011\n",
      "[54/100, 100/100] loss: 0.011\n",
      "[55/100, 100/100] loss: 0.011\n",
      "[56/100, 100/100] loss: 0.011\n",
      "[57/100, 100/100] loss: 0.011\n",
      "[58/100, 100/100] loss: 0.011\n",
      "[52/100, 100/100] loss: 0.011\n",
      "[53/100, 100/100] loss: 0.011\n",
      "[54/100, 100/100] loss: 0.011\n",
      "[55/100, 100/100] loss: 0.011\n",
      "[56/100, 100/100] loss: 0.011\n",
      "[57/100, 100/100] loss: 0.011\n",
      "[58/100, 100/100] loss: 0.011\n",
      "[59/100, 100/100] loss: 0.011\n",
      "[60/100, 100/100] loss: 0.011\n",
      "[61/100, 100/100] loss: 0.011\n",
      "[62/100, 100/100] loss: 0.011\n",
      "[63/100, 100/100] loss: 0.011\n",
      "[64/100, 100/100] loss: 0.011\n",
      "[59/100, 100/100] loss: 0.011\n",
      "[60/100, 100/100] loss: 0.011\n",
      "[61/100, 100/100] loss: 0.011\n",
      "[62/100, 100/100] loss: 0.011\n",
      "[63/100, 100/100] loss: 0.011\n",
      "[64/100, 100/100] loss: 0.011\n",
      "[65/100, 100/100] loss: 0.011\n",
      "[66/100, 100/100] loss: 0.011\n",
      "[67/100, 100/100] loss: 0.011\n",
      "[68/100, 100/100] loss: 0.011\n",
      "[69/100, 100/100] loss: 0.011\n",
      "[70/100, 100/100] loss: 0.011\n",
      "[65/100, 100/100] loss: 0.011\n",
      "[66/100, 100/100] loss: 0.011\n",
      "[67/100, 100/100] loss: 0.011\n",
      "[68/100, 100/100] loss: 0.011\n",
      "[69/100, 100/100] loss: 0.011\n",
      "[70/100, 100/100] loss: 0.011\n",
      "[71/100, 100/100] loss: 0.011\n",
      "[72/100, 100/100] loss: 0.011\n",
      "[73/100, 100/100] loss: 0.011\n",
      "[74/100, 100/100] loss: 0.011\n",
      "[75/100, 100/100] loss: 0.011\n",
      "[76/100, 100/100] loss: 0.011\n",
      "[71/100, 100/100] loss: 0.011\n",
      "[72/100, 100/100] loss: 0.011\n",
      "[73/100, 100/100] loss: 0.011\n",
      "[74/100, 100/100] loss: 0.011\n",
      "[75/100, 100/100] loss: 0.011\n",
      "[76/100, 100/100] loss: 0.011\n",
      "[77/100, 100/100] loss: 0.011\n",
      "[78/100, 100/100] loss: 0.011\n",
      "[79/100, 100/100] loss: 0.011\n",
      "[80/100, 100/100] loss: 0.011\n",
      "[81/100, 100/100] loss: 0.011\n",
      "[82/100, 100/100] loss: 0.011\n",
      "[77/100, 100/100] loss: 0.011\n",
      "[78/100, 100/100] loss: 0.011\n",
      "[79/100, 100/100] loss: 0.011\n",
      "[80/100, 100/100] loss: 0.011\n",
      "[81/100, 100/100] loss: 0.011\n",
      "[82/100, 100/100] loss: 0.011\n",
      "[83/100, 100/100] loss: 0.011\n",
      "[84/100, 100/100] loss: 0.011\n",
      "[85/100, 100/100] loss: 0.011\n",
      "[86/100, 100/100] loss: 0.011\n",
      "[87/100, 100/100] loss: 0.011\n",
      "[88/100, 100/100] loss: 0.011\n",
      "[83/100, 100/100] loss: 0.011\n",
      "[84/100, 100/100] loss: 0.011\n",
      "[85/100, 100/100] loss: 0.011\n",
      "[86/100, 100/100] loss: 0.011\n",
      "[87/100, 100/100] loss: 0.011\n",
      "[88/100, 100/100] loss: 0.011\n",
      "[89/100, 100/100] loss: 0.011\n",
      "[90/100, 100/100] loss: 0.011\n",
      "[91/100, 100/100] loss: 0.011\n",
      "[92/100, 100/100] loss: 0.011\n",
      "[93/100, 100/100] loss: 0.011\n",
      "[94/100, 100/100] loss: 0.011\n",
      "[95/100, 100/100] loss: 0.011\n",
      "[89/100, 100/100] loss: 0.011\n",
      "[90/100, 100/100] loss: 0.011\n",
      "[91/100, 100/100] loss: 0.011\n",
      "[92/100, 100/100] loss: 0.011\n",
      "[93/100, 100/100] loss: 0.011\n",
      "[94/100, 100/100] loss: 0.011\n",
      "[95/100, 100/100] loss: 0.011\n",
      "[96/100, 100/100] loss: 0.011\n",
      "[97/100, 100/100] loss: 0.011\n",
      "[98/100, 100/100] loss: 0.011\n",
      "[99/100, 100/100] loss: 0.011\n",
      "[100/100, 100/100] loss: 0.011\n",
      "Finished Training\n",
      "[96/100, 100/100] loss: 0.011\n",
      "[97/100, 100/100] loss: 0.011\n",
      "[98/100, 100/100] loss: 0.011\n",
      "[99/100, 100/100] loss: 0.011\n",
      "[100/100, 100/100] loss: 0.011\n",
      "Finished Training\n"
     ]
    }
   ],
   "source": [
    "# 訓練過程\n",
    "loss_history = []\n",
    "\n",
    "# 第 1 步驟\n",
    "for epoch in range(epochs): #range(100) 會產生 0, 1, 2, 3, ..., 99。共有 100 個數字\n",
    "    # 訓練階段\n",
    "    model.train()\n",
    "    running_loss = 0.0  # 訓練時的loss\n",
    "\n",
    "    # 第 2 步驟\n",
    "    for times, data_train in enumerate(Train_list):  # data_train會包括訓練的資料以及訓練的標籤\n",
    "        # batch data input\n",
    "        inputs, labels = data_train\n",
    "        inputs, labels = torch.from_numpy(inputs).to(device), torch.from_numpy(labels).to(device)\n",
    "\n",
    "        # 第 3 步驟\n",
    "        optimizer.zero_grad()  # Zero the parameter gradients\n",
    "        output_train = model(inputs)  # model Feedforward\n",
    "\n",
    "        # 第 4 步驟\n",
    "        loss = criterion(output_train, labels)  # Feed forward loss result\n",
    "\n",
    "        # 第 5 步驟\n",
    "        loss.backward()  # backward update\n",
    "\n",
    "        # 第 6 步驟\n",
    "        optimizer.step()  # optimize\n",
    "\n",
    "        # 將每一筆資料的 loss 都加起來，假設有 100 筆資料就會有 100 個 loss 的結果\n",
    "        running_loss += loss.item()  # Compute loss\n",
    "\n",
    "        # 當一個 epoch 結束後，顯示結果\n",
    "        if times+1 == len(Train_list):\n",
    "            print('[%d/%d, %d/%d] loss: %.3f' % (epoch+1,\n",
    "                                                 epochs,times+1,\n",
    "                                                 len(Train_list),\n",
    "                                                 running_loss/len(Train_list),))\n",
    "\n",
    "            loss_history.append(running_loss/len(Train_list))\n",
    "            running_loss = 0.0\n",
    "\n",
    "print('Finished Training')"
   ]
  },
  {
   "cell_type": "markdown",
   "metadata": {
    "id": "_zNuKAzfSbgt"
   },
   "source": [
    "## 5. 訓練完的預測表現"
   ]
  },
  {
   "cell_type": "markdown",
   "metadata": {
    "id": "3XKbmqcNtRyZ"
   },
   "source": [
    "可以使用一些 `sklearn.metrics` 的評估指標，評估 `model(x)` 的結果與真實答案的差距。"
   ]
  },
  {
   "cell_type": "code",
   "execution_count": 167,
   "metadata": {
    "colab": {
     "base_uri": "https://localhost:8080/"
    },
    "executionInfo": {
     "elapsed": 515,
     "status": "ok",
     "timestamp": 1723621197637,
     "user": {
      "displayName": "Michael Chang",
      "userId": "17202199263773585491"
     },
     "user_tz": -480
    },
    "id": "uRI65hiyzhb5",
    "outputId": "eb43bf4e-d758-4411-f92f-790781a9d36e"
   },
   "outputs": [
    {
     "name": "stdout",
     "output_type": "stream",
     "text": [
      "MSE: 0.0101\n"
     ]
    }
   ],
   "source": [
    "batch_x_in = np.reshape(x_in, (-1,1))\n",
    "batch_x_in = torch.from_numpy(batch_x_in).to(device)\n",
    "\n",
    "y_pred = model(batch_x_in)\n",
    "y_pred = y_pred.cpu().data.numpy()\n",
    "y_pred = np.squeeze(y_pred)\n",
    "mse = mean_squared_error(y_pred=y_pred, y_true=y_noise)\n",
    "print('MSE: %.4f' % mse)"
   ]
  },
  {
   "cell_type": "markdown",
   "metadata": {
    "id": "JbgD2BwwVQ7u"
   },
   "source": [
    "### 查看訓練參數\n",
    "\n",
    "使用 `.weights` 以及 `.bias` 可以拿取模型所有的參數"
   ]
  },
  {
   "cell_type": "code",
   "execution_count": 168,
   "metadata": {
    "colab": {
     "base_uri": "https://localhost:8080/"
    },
    "executionInfo": {
     "elapsed": 3,
     "status": "ok",
     "timestamp": 1723621197637,
     "user": {
      "displayName": "Michael Chang",
      "userId": "17202199263773585491"
     },
     "user_tz": -480
    },
    "id": "tqckDeNczhb8",
    "outputId": "2c387acf-0306-4a52-cbd4-b8bc641a91d7"
   },
   "outputs": [
    {
     "name": "stdout",
     "output_type": "stream",
     "text": [
      "w_true: 3 \n",
      "b_true: 10\n",
      "----------\n",
      "w_pred: tensor([[3.0207]]) \n",
      "b_pred: tensor([10.0083])\n"
     ]
    }
   ],
   "source": [
    "print('w_true:', 3, '\\nb_true:', 10)\n",
    "print('-'*10)\n",
    "print('w_pred:', model.fc.weight.data, '\\nb_pred:', model.fc.bias.data)"
   ]
  },
  {
   "cell_type": "markdown",
   "metadata": {
    "id": "w_Ty5-BZzhcA"
   },
   "source": [
    "### 視覺化結果"
   ]
  },
  {
   "cell_type": "code",
   "execution_count": 169,
   "metadata": {
    "colab": {
     "base_uri": "https://localhost:8080/",
     "height": 669
    },
    "executionInfo": {
     "elapsed": 540,
     "status": "ok",
     "timestamp": 1723621198175,
     "user": {
      "displayName": "Michael Chang",
      "userId": "17202199263773585491"
     },
     "user_tz": -480
    },
    "id": "S7-IjkSIzhcB",
    "outputId": "a5787e2a-dd95-4087-d31b-c9ea25c11b2c"
   },
   "outputs": [
    {
     "name": "stderr",
     "output_type": "stream",
     "text": [
      "<>:7: SyntaxWarning: invalid escape sequence '\\e'\n",
      "<>:7: SyntaxWarning: invalid escape sequence '\\e'\n",
      "C:\\TEMP\\ipykernel_20668\\1358309683.py:7: SyntaxWarning: invalid escape sequence '\\e'\n",
      "  plt.scatter(x_in, y_noise, c = 'b', label='3x + 10 + $\\epsilon$')\n"
     ]
    },
    {
     "data": {
      "image/png": "[encoded data removed]",
      "text/plain": [
       "<Figure size 1000x800 with 1 Axes>"
      ]
     },
     "metadata": {},
     "output_type": "display_data"
    }
   ],
   "source": [
    "# 視覺化資料\n",
    "# 重新提取訓練後的參數\n",
    "w_pred = model.fc.weight.data[0][0]\n",
    "b_pred = model.fc.bias.data[0]\n",
    "\n",
    "plt.figure(figsize=(10, 8))\n",
    "plt.scatter(x_in, y_noise, c = 'b', label='3x + 10 + $\\epsilon$')\n",
    "plt.scatter(x_in, y_pred, c = 'g', label='%1.4fx + %1.4f' % (w_pred, b_pred), alpha=0.5)\n",
    "plt.title(f'loss={mse:.4f}')\n",
    "plt.axis(xmin=0, xmax=1)\n",
    "plt.legend(fontsize = 15)\n",
    "plt.show()"
   ]
  },
  {
   "cell_type": "markdown",
   "metadata": {
    "id": "pP9PleCRzhcD"
   },
   "source": [
    "# 三、 Linear Polynomial (二元一次多項式)，使用模型來進行一個訓練的流程"
   ]
  },
  {
   "cell_type": "markdown",
   "metadata": {
    "id": "d7IdmY0fzhcE"
   },
   "source": [
    "$$\n",
    "f(x_1,x_2)=7x_1+3x_2+10\n",
    "$$"
   ]
  },
  {
   "cell_type": "markdown",
   "metadata": {
    "id": "FBvS3tYdtRya"
   },
   "source": [
    "## 1. 準備資料集"
   ]
  },
  {
   "cell_type": "code",
   "execution_count": 170,
   "metadata": {
    "id": "N0FR0tgLzhcH"
   },
   "outputs": [],
   "source": [
    "# 準備資料\n",
    "x1 = np.float32(np.linspace(0, 1, 100))\n",
    "x2 = np.float32(np.linspace(0, 1, 100))\n",
    "\n",
    "np.random.shuffle(x2)\n",
    "\n",
    "x_in = np.stack([x1, x2], axis=1)\n",
    "\n",
    "y_true = 7 * x_in[:,0] + 3 * x_in[:,1] + 10\n",
    "\n",
    "noise = np.float32(np.random.normal(0, 0.1, size=len(x1)))\n",
    "y_noise = y_true + noise"
   ]
  },
  {
   "cell_type": "code",
   "execution_count": 171,
   "metadata": {
    "colab": {
     "base_uri": "https://localhost:8080/"
    },
    "executionInfo": {
     "elapsed": 8,
     "status": "ok",
     "timestamp": 1723621198175,
     "user": {
      "displayName": "Michael Chang",
      "userId": "17202199263773585491"
     },
     "user_tz": -480
    },
    "id": "LZ12qfCczhcK",
    "outputId": "c1c61aea-4ddb-40b4-beaf-5d7ed4e65c74"
   },
   "outputs": [
    {
     "name": "stdout",
     "output_type": "stream",
     "text": [
      "x_in_shape: (100, 2)\n",
      "y_true_shape: (100,)\n",
      "y_noise_shape: (100,)\n"
     ]
    }
   ],
   "source": [
    "print('x_in_shape:', x_in.shape)\n",
    "print('y_true_shape:', y_true.shape)\n",
    "print('y_noise_shape:', y_noise.shape)"
   ]
  },
  {
   "cell_type": "code",
   "execution_count": 172,
   "metadata": {
    "id": "mYV7wIARtRya"
   },
   "outputs": [],
   "source": [
    "# 包成可供模型訓練的資料型態\n",
    "Train_list = []\n",
    "\n",
    "for i in range(len(x_in)):\n",
    "    Train_list.append([np.array(x_in[i]), np.array([y_noise[i]])])"
   ]
  },
  {
   "cell_type": "code",
   "execution_count": 173,
   "metadata": {
    "colab": {
     "base_uri": "https://localhost:8080/"
    },
    "executionInfo": {
     "elapsed": 5,
     "status": "ok",
     "timestamp": 1723621198175,
     "user": {
      "displayName": "Michael Chang",
      "userId": "17202199263773585491"
     },
     "user_tz": -480
    },
    "id": "WkbU7iHTtRya",
    "outputId": "23481414-da10-4e87-ddc4-fe88f528362f"
   },
   "outputs": [
    {
     "data": {
      "text/plain": [
       "[array([0.        , 0.97979796], dtype=float32),\n",
       " array([13.094294], dtype=float32)]"
      ]
     },
     "execution_count": 173,
     "metadata": {},
     "output_type": "execute_result"
    }
   ],
   "source": [
    "Train_list[0]"
   ]
  },
  {
   "cell_type": "code",
   "execution_count": 174,
   "metadata": {
    "colab": {
     "base_uri": "https://localhost:8080/",
     "height": 653
    },
    "executionInfo": {
     "elapsed": 961,
     "status": "ok",
     "timestamp": 1723621199132,
     "user": {
      "displayName": "Michael Chang",
      "userId": "17202199263773585491"
     },
     "user_tz": -480
    },
    "id": "HdE9Rak8zhcM",
    "outputId": "b8c98fb1-051d-43f3-b883-c52c0c7c6ea2"
   },
   "outputs": [
    {
     "data": {
      "image/png": "[encoded data removed]",
      "text/plain": [
       "<Figure size 1000x800 with 1 Axes>"
      ]
     },
     "metadata": {},
     "output_type": "display_data"
    }
   ],
   "source": [
    "# 視覺化資料\n",
    "plt.figure(figsize=(10, 8))\n",
    "ax = plt.axes(projection='3d')\n",
    "ax.scatter(x_in[:,0], x_in[:,1], y_noise, label='$f(x,y)=7x+3y+10+\\\\epsilon$')\n",
    "plt.legend(fontsize=15)\n",
    "ax.set_xlabel('x1', fontsize=15)\n",
    "ax.set_ylabel('x2', fontsize=15)\n",
    "ax.set_zlabel('f(x,y)', fontsize=15)\n",
    "plt.show()"
   ]
  },
  {
   "cell_type": "markdown",
   "metadata": {
    "id": "5xZ3-C5vzhcO"
   },
   "source": [
    "## 2. 建立模型"
   ]
  },
  {
   "cell_type": "code",
   "execution_count": 175,
   "metadata": {
    "colab": {
     "base_uri": "https://localhost:8080/"
    },
    "executionInfo": {
     "elapsed": 8,
     "status": "ok",
     "timestamp": 1723621199132,
     "user": {
      "displayName": "Michael Chang",
      "userId": "17202199263773585491"
     },
     "user_tz": -480
    },
    "id": "9fH7Osn7tRyb",
    "outputId": "f724a8a0-1025-48b0-a1c8-23a648cc322c"
   },
   "outputs": [
    {
     "data": {
      "text/plain": [
       "DNN(\n",
       "  (fc): Linear(in_features=2, out_features=1, bias=True)\n",
       ")"
      ]
     },
     "execution_count": 175,
     "metadata": {},
     "output_type": "execute_result"
    }
   ],
   "source": [
    "class DNN(nn.Module):\n",
    "    def __init__(self):\n",
    "        super(DNN, self).__init__()\n",
    "        self.fc = nn.Linear(in_features = 2, out_features = 1, bias = True)\n",
    "\n",
    "    def forward(self, x):\n",
    "        output = self.fc(x)\n",
    "        return output\n",
    "\n",
    "model = DNN().to(device)\n",
    "model"
   ]
  },
  {
   "cell_type": "markdown",
   "metadata": {
    "id": "nTMlt1V3CnJ6"
   },
   "source": [
    "## 還沒訓練時的預測表現"
   ]
  },
  {
   "cell_type": "markdown",
   "metadata": {
    "id": "KLSejGrZCsxj"
   },
   "source": [
    "### 查看模型參數\n",
    "\n",
    "使用 `.weights` 以及 `.bias` 可以拿取模型所有的參數"
   ]
  },
  {
   "cell_type": "code",
   "execution_count": 176,
   "metadata": {
    "colab": {
     "base_uri": "https://localhost:8080/"
    },
    "executionInfo": {
     "elapsed": 7,
     "status": "ok",
     "timestamp": 1723621199133,
     "user": {
      "displayName": "Michael Chang",
      "userId": "17202199263773585491"
     },
     "user_tz": -480
    },
    "id": "ftsNN8XnC_XX",
    "outputId": "df6eb812-c32b-4339-d7b5-615d1c12045f"
   },
   "outputs": [
    {
     "name": "stdout",
     "output_type": "stream",
     "text": [
      "w1_true: 7 \n",
      "w2_true: 3 \n",
      "b_true: 10\n",
      "----------\n",
      "w1_pred: tensor(-0.3746) \n",
      "w2_pred: tensor(0.2437) \n",
      "b_pred: tensor(0.6005)\n"
     ]
    }
   ],
   "source": [
    "w1_pred = model.fc.weight[0][0].data\n",
    "w2_pred = model.fc.weight[0][1].data\n",
    "b_pred = model.fc.bias[0].data\n",
    "\n",
    "print('w1_true:', 7, '\\nw2_true:', 3,'\\nb_true:', 10)\n",
    "print('-'*10)\n",
    "print('w1_pred:', w1_pred, '\\nw2_pred:', w2_pred, '\\nb_pred:', b_pred)"
   ]
  },
  {
   "cell_type": "code",
   "execution_count": 177,
   "metadata": {
    "colab": {
     "base_uri": "https://localhost:8080/"
    },
    "executionInfo": {
     "elapsed": 5,
     "status": "ok",
     "timestamp": 1723621199133,
     "user": {
      "displayName": "Michael Chang",
      "userId": "17202199263773585491"
     },
     "user_tz": -480
    },
    "id": "3NPFonmfDnvC",
    "outputId": "5833cfc8-abb5-44da-faeb-6bae57c915aa"
   },
   "outputs": [
    {
     "name": "stdout",
     "output_type": "stream",
     "text": [
      "214.8584442138672\n"
     ]
    }
   ],
   "source": [
    "batch_x_in = np.reshape(x_in, (-1,2))\n",
    "batch_x_in = torch.from_numpy(batch_x_in).to(device)\n",
    "\n",
    "y_pred = model(batch_x_in)\n",
    "y_pred = y_pred.cpu().data.numpy()\n",
    "y_pred = np.squeeze(y_pred)\n",
    "mse = mean_squared_error(y_pred=y_pred, y_true=y_true)\n",
    "print(mse)"
   ]
  },
  {
   "cell_type": "markdown",
   "metadata": {
    "id": "gIlYT7AqE9Ca"
   },
   "source": [
    "### 視覺化結果\n",
    "\n",
    "\b\b因為還沒開始訓練，所以預測表現不好。\n",
    "\n",
    "*權重的初始化為 `glorot_uniform`，所以預測值都會接近 1*"
   ]
  },
  {
   "cell_type": "code",
   "execution_count": 178,
   "metadata": {
    "colab": {
     "base_uri": "https://localhost:8080/",
     "height": 675
    },
    "executionInfo": {
     "elapsed": 1041,
     "status": "ok",
     "timestamp": 1723621200170,
     "user": {
      "displayName": "Michael Chang",
      "userId": "17202199263773585491"
     },
     "user_tz": -480
    },
    "id": "anN4_sBrE_Jx",
    "outputId": "700cbc04-cabd-4841-eca2-b4e517233fad"
   },
   "outputs": [
    {
     "data": {
      "image/png": "[encoded data removed]",
      "text/plain": [
       "<Figure size 1000x800 with 1 Axes>"
      ]
     },
     "metadata": {},
     "output_type": "display_data"
    }
   ],
   "source": [
    "# 視覺化資料\n",
    "plt.figure(figsize=(10, 8))\n",
    "ax = plt.axes(projection='3d')\n",
    "ax.scatter(x_in[:,0], x_in[:,1], y_noise, label='$f(x,y)=7x+3y+10+\\\\epsilon$', alpha = 0.5)\n",
    "ax.scatter(x_in[:,0], x_in[:,1], y_pred, label='$f(x,y)=%1.4fx+%1.4fy+%1.4f$' % (w1_pred, w2_pred, b_pred))\n",
    "plt.title(f'loss={mse:.4f}')\n",
    "plt.legend(fontsize=15)\n",
    "ax.set_xlabel('X-axis')\n",
    "ax.set_ylabel('Y-axis')\n",
    "ax.set_zlabel('Z-axis')\n",
    "plt.show()"
   ]
  },
  {
   "cell_type": "markdown",
   "metadata": {
    "id": "S7hs2gKFzhcV"
   },
   "source": [
    "## 3. 模型設定"
   ]
  },
  {
   "cell_type": "code",
   "execution_count": 179,
   "metadata": {
    "id": "2_PKH7BlzhcV"
   },
   "outputs": [],
   "source": [
    "# 設定loss function\n",
    "criterion = nn.MSELoss()\n",
    "\n",
    "# 設定learning rate\n",
    "lr = 1e-4\n",
    "\n",
    "# 設定訓練的epoch數量\n",
    "epochs = 100\n",
    "\n",
    "# 設定優化器，這裡以sgd為例\n",
    "optimizer = optim.SGD(model.parameters(), lr=lr, momentum=0.9)"
   ]
  },
  {
   "cell_type": "markdown",
   "metadata": {
    "id": "aJW73xT_tRyb"
   },
   "source": [
    "## 4. 模型訓練"
   ]
  },
  {
   "cell_type": "code",
   "execution_count": 180,
   "metadata": {
    "colab": {
     "base_uri": "https://localhost:8080/"
    },
    "executionInfo": {
     "elapsed": 10712,
     "status": "ok",
     "timestamp": 1723621210880,
     "user": {
      "displayName": "Michael Chang",
      "userId": "17202199263773585491"
     },
     "user_tz": -480
    },
    "id": "H17Cs5xHtRyb",
    "outputId": "e59ed2e6-6ef6-40f5-a7e9-10fd780c17a0"
   },
   "outputs": [
    {
     "name": "stdout",
     "output_type": "stream",
     "text": [
      "[1/100, 100/100] loss: 169.293\n",
      "[2/100, 100/100] loss: 90.549\n",
      "[3/100, 100/100] loss: 48.248\n",
      "[4/100, 100/100] loss: 25.840\n",
      "[5/100, 100/100] loss: 13.978\n",
      "[6/100, 100/100] loss: 7.701\n",
      "[7/100, 100/100] loss: 4.382\n",
      "[8/100, 100/100] loss: 2.626\n",
      "[9/100, 100/100] loss: 1.695\n",
      "[10/100, 100/100] loss: 1.200\n",
      "[11/100, 100/100] loss: 0.934\n",
      "[12/100, 100/100] loss: 0.788\n",
      "[7/100, 100/100] loss: 4.382\n",
      "[8/100, 100/100] loss: 2.626\n",
      "[9/100, 100/100] loss: 1.695\n",
      "[10/100, 100/100] loss: 1.200\n",
      "[11/100, 100/100] loss: 0.934\n",
      "[12/100, 100/100] loss: 0.788\n",
      "[13/100, 100/100] loss: 0.705\n",
      "[14/100, 100/100] loss: 0.654\n",
      "[15/100, 100/100] loss: 0.620\n",
      "[16/100, 100/100] loss: 0.595\n",
      "[17/100, 100/100] loss: 0.575\n",
      "[18/100, 100/100] loss: 0.557\n",
      "[19/100, 100/100] loss: 0.540\n",
      "[13/100, 100/100] loss: 0.705\n",
      "[14/100, 100/100] loss: 0.654\n",
      "[15/100, 100/100] loss: 0.620\n",
      "[16/100, 100/100] loss: 0.595\n",
      "[17/100, 100/100] loss: 0.575\n",
      "[18/100, 100/100] loss: 0.557\n",
      "[19/100, 100/100] loss: 0.540\n",
      "[20/100, 100/100] loss: 0.524\n",
      "[21/100, 100/100] loss: 0.509\n",
      "[22/100, 100/100] loss: 0.494\n",
      "[23/100, 100/100] loss: 0.480\n",
      "[24/100, 100/100] loss: 0.466\n",
      "[25/100, 100/100] loss: 0.452\n",
      "[20/100, 100/100] loss: 0.524\n",
      "[21/100, 100/100] loss: 0.509\n",
      "[22/100, 100/100] loss: 0.494\n",
      "[23/100, 100/100] loss: 0.480\n",
      "[24/100, 100/100] loss: 0.466\n",
      "[25/100, 100/100] loss: 0.452\n",
      "[26/100, 100/100] loss: 0.439\n",
      "[27/100, 100/100] loss: 0.426\n",
      "[28/100, 100/100] loss: 0.413\n",
      "[29/100, 100/100] loss: 0.401\n",
      "[30/100, 100/100] loss: 0.389\n",
      "[31/100, 100/100] loss: 0.378\n",
      "[26/100, 100/100] loss: 0.439\n",
      "[27/100, 100/100] loss: 0.426\n",
      "[28/100, 100/100] loss: 0.413\n",
      "[29/100, 100/100] loss: 0.401\n",
      "[30/100, 100/100] loss: 0.389\n",
      "[31/100, 100/100] loss: 0.378\n",
      "[32/100, 100/100] loss: 0.367\n",
      "[33/100, 100/100] loss: 0.356\n",
      "[34/100, 100/100] loss: 0.345\n",
      "[35/100, 100/100] loss: 0.335\n",
      "[36/100, 100/100] loss: 0.325\n",
      "[37/100, 100/100] loss: 0.316\n",
      "[38/100, 100/100] loss: 0.306\n",
      "[32/100, 100/100] loss: 0.367\n",
      "[33/100, 100/100] loss: 0.356\n",
      "[34/100, 100/100] loss: 0.345\n",
      "[35/100, 100/100] loss: 0.335\n",
      "[36/100, 100/100] loss: 0.325\n",
      "[37/100, 100/100] loss: 0.316\n",
      "[38/100, 100/100] loss: 0.306\n",
      "[39/100, 100/100] loss: 0.297\n",
      "[40/100, 100/100] loss: 0.289\n",
      "[41/100, 100/100] loss: 0.280\n",
      "[42/100, 100/100] loss: 0.272\n",
      "[43/100, 100/100] loss: 0.264\n",
      "[44/100, 100/100] loss: 0.256\n",
      "[39/100, 100/100] loss: 0.297\n",
      "[40/100, 100/100] loss: 0.289\n",
      "[41/100, 100/100] loss: 0.280\n",
      "[42/100, 100/100] loss: 0.272\n",
      "[43/100, 100/100] loss: 0.264\n",
      "[44/100, 100/100] loss: 0.256\n",
      "[45/100, 100/100] loss: 0.249\n",
      "[46/100, 100/100] loss: 0.242\n",
      "[47/100, 100/100] loss: 0.235\n",
      "[48/100, 100/100] loss: 0.228\n",
      "[49/100, 100/100] loss: 0.221\n",
      "[50/100, 100/100] loss: 0.215\n",
      "[51/100, 100/100] loss: 0.208\n",
      "[45/100, 100/100] loss: 0.249\n",
      "[46/100, 100/100] loss: 0.242\n",
      "[47/100, 100/100] loss: 0.235\n",
      "[48/100, 100/100] loss: 0.228\n",
      "[49/100, 100/100] loss: 0.221\n",
      "[50/100, 100/100] loss: 0.215\n",
      "[51/100, 100/100] loss: 0.208\n",
      "[52/100, 100/100] loss: 0.202\n",
      "[53/100, 100/100] loss: 0.197\n",
      "[54/100, 100/100] loss: 0.191\n",
      "[55/100, 100/100] loss: 0.185\n",
      "[56/100, 100/100] loss: 0.180\n",
      "[57/100, 100/100] loss: 0.175\n",
      "[52/100, 100/100] loss: 0.202\n",
      "[53/100, 100/100] loss: 0.197\n",
      "[54/100, 100/100] loss: 0.191\n",
      "[55/100, 100/100] loss: 0.185\n",
      "[56/100, 100/100] loss: 0.180\n",
      "[57/100, 100/100] loss: 0.175\n",
      "[58/100, 100/100] loss: 0.170\n",
      "[59/100, 100/100] loss: 0.165\n",
      "[60/100, 100/100] loss: 0.160\n",
      "[61/100, 100/100] loss: 0.156\n",
      "[62/100, 100/100] loss: 0.151\n",
      "[63/100, 100/100] loss: 0.147\n",
      "[58/100, 100/100] loss: 0.170\n",
      "[59/100, 100/100] loss: 0.165\n",
      "[60/100, 100/100] loss: 0.160\n",
      "[61/100, 100/100] loss: 0.156\n",
      "[62/100, 100/100] loss: 0.151\n",
      "[63/100, 100/100] loss: 0.147\n",
      "[64/100, 100/100] loss: 0.143\n",
      "[65/100, 100/100] loss: 0.139\n",
      "[66/100, 100/100] loss: 0.135\n",
      "[67/100, 100/100] loss: 0.131\n",
      "[68/100, 100/100] loss: 0.127\n",
      "[69/100, 100/100] loss: 0.124\n",
      "[70/100, 100/100] loss: 0.120\n",
      "[64/100, 100/100] loss: 0.143\n",
      "[65/100, 100/100] loss: 0.139\n",
      "[66/100, 100/100] loss: 0.135\n",
      "[67/100, 100/100] loss: 0.131\n",
      "[68/100, 100/100] loss: 0.127\n",
      "[69/100, 100/100] loss: 0.124\n",
      "[70/100, 100/100] loss: 0.120\n",
      "[71/100, 100/100] loss: 0.117\n",
      "[72/100, 100/100] loss: 0.114\n",
      "[73/100, 100/100] loss: 0.110\n",
      "[74/100, 100/100] loss: 0.107\n",
      "[75/100, 100/100] loss: 0.104\n",
      "[76/100, 100/100] loss: 0.102\n",
      "[71/100, 100/100] loss: 0.117\n",
      "[72/100, 100/100] loss: 0.114\n",
      "[73/100, 100/100] loss: 0.110\n",
      "[74/100, 100/100] loss: 0.107\n",
      "[75/100, 100/100] loss: 0.104\n",
      "[76/100, 100/100] loss: 0.102\n",
      "[77/100, 100/100] loss: 0.099\n",
      "[78/100, 100/100] loss: 0.096\n",
      "[79/100, 100/100] loss: 0.093\n",
      "[80/100, 100/100] loss: 0.091\n",
      "[81/100, 100/100] loss: 0.088\n",
      "[82/100, 100/100] loss: 0.086\n",
      "[77/100, 100/100] loss: 0.099\n",
      "[78/100, 100/100] loss: 0.096\n",
      "[79/100, 100/100] loss: 0.093\n",
      "[80/100, 100/100] loss: 0.091\n",
      "[81/100, 100/100] loss: 0.088\n",
      "[82/100, 100/100] loss: 0.086\n",
      "[83/100, 100/100] loss: 0.084\n",
      "[84/100, 100/100] loss: 0.081\n",
      "[85/100, 100/100] loss: 0.079\n",
      "[86/100, 100/100] loss: 0.077\n",
      "[87/100, 100/100] loss: 0.075\n",
      "[88/100, 100/100] loss: 0.073\n",
      "[89/100, 100/100] loss: 0.071\n",
      "[83/100, 100/100] loss: 0.084\n",
      "[84/100, 100/100] loss: 0.081\n",
      "[85/100, 100/100] loss: 0.079\n",
      "[86/100, 100/100] loss: 0.077\n",
      "[87/100, 100/100] loss: 0.075\n",
      "[88/100, 100/100] loss: 0.073\n",
      "[89/100, 100/100] loss: 0.071\n",
      "[90/100, 100/100] loss: 0.069\n",
      "[91/100, 100/100] loss: 0.067\n",
      "[92/100, 100/100] loss: 0.066\n",
      "[93/100, 100/100] loss: 0.064\n",
      "[94/100, 100/100] loss: 0.062\n",
      "[95/100, 100/100] loss: 0.061\n",
      "[96/100, 100/100] loss: 0.059\n",
      "[90/100, 100/100] loss: 0.069\n",
      "[91/100, 100/100] loss: 0.067\n",
      "[92/100, 100/100] loss: 0.066\n",
      "[93/100, 100/100] loss: 0.064\n",
      "[94/100, 100/100] loss: 0.062\n",
      "[95/100, 100/100] loss: 0.061\n",
      "[96/100, 100/100] loss: 0.059\n",
      "[97/100, 100/100] loss: 0.058\n",
      "[98/100, 100/100] loss: 0.056\n",
      "[99/100, 100/100] loss: 0.055\n",
      "[100/100, 100/100] loss: 0.053\n",
      "Finished Training\n",
      "[97/100, 100/100] loss: 0.058\n",
      "[98/100, 100/100] loss: 0.056\n",
      "[99/100, 100/100] loss: 0.055\n",
      "[100/100, 100/100] loss: 0.053\n",
      "Finished Training\n"
     ]
    }
   ],
   "source": [
    "# 訓練過程\n",
    "loss_history = []\n",
    "\n",
    "# 第 1 步驟\n",
    "for epoch in range(epochs):\n",
    "    # 訓練階段\n",
    "    model.train()\n",
    "    running_loss = 0.0  # 訓練時的loss\n",
    "\n",
    "    # 第 2 步驟\n",
    "    for times, data_train in enumerate(Train_list):  # data_train會包括訓練的資料以及訓練的標籤\n",
    "        # batch data input\n",
    "        inputs, labels = data_train\n",
    "        inputs, labels = torch.from_numpy(inputs).to(device), torch.from_numpy(labels).to(device)\n",
    "\n",
    "        # 第 3 步驟\n",
    "        optimizer.zero_grad()  # Zero the parameter gradients\n",
    "        output_train = model(inputs)  # model Feedforward\n",
    "\n",
    "        # 第 4 步驟\n",
    "        loss = criterion(output_train, labels)  # Feed forward loss result\n",
    "\n",
    "        # 第 5 步驟\n",
    "        loss.backward()  # backward update\n",
    "\n",
    "        # 第 6 步驟\n",
    "        optimizer.step()  # optimize\n",
    "\n",
    "        # 將每一筆資料的 loss 都加起來，假設有 100 筆資料就會有 100 個 loss 的結果\n",
    "        running_loss += loss.item()  # Compute loss\n",
    "\n",
    "        # 當一個 epoch 結束後，顯示結果\n",
    "        if times+1 == len(Train_list):\n",
    "            print('[%d/%d, %d/%d] loss: %.3f' % (epoch+1,\n",
    "                                                 epochs,times+1,\n",
    "                                                 len(Train_list),\n",
    "                                                 running_loss/len(Train_list),))\n",
    "\n",
    "            loss_history.append(running_loss/len(Train_list))\n",
    "            running_loss = 0.0\n",
    "\n",
    "print('Finished Training')"
   ]
  },
  {
   "cell_type": "markdown",
   "metadata": {
    "id": "VE-r-F5dGK6T"
   },
   "source": [
    "## 5. 訓練完的預測表現"
   ]
  },
  {
   "cell_type": "code",
   "execution_count": 181,
   "metadata": {
    "colab": {
     "base_uri": "https://localhost:8080/"
    },
    "executionInfo": {
     "elapsed": 6,
     "status": "ok",
     "timestamp": 1723621210881,
     "user": {
      "displayName": "Michael Chang",
      "userId": "17202199263773585491"
     },
     "user_tz": -480
    },
    "id": "HaA0GPD5GOIn",
    "outputId": "c72f11ac-07c9-42db-d784-04b8f4e451c9"
   },
   "outputs": [
    {
     "name": "stdout",
     "output_type": "stream",
     "text": [
      "MSE: 0.0374\n"
     ]
    }
   ],
   "source": [
    "batch_x_in = np.reshape(x_in, (-1,2))\n",
    "batch_x_in = torch.from_numpy(batch_x_in).to(device)\n",
    "\n",
    "y_pred = model(batch_x_in)\n",
    "y_pred = y_pred.cpu().data.numpy()\n",
    "y_pred = np.squeeze(y_pred)\n",
    "mse = mean_squared_error(y_pred=y_pred, y_true=y_true)\n",
    "print('MSE: %.4f' % mse)"
   ]
  },
  {
   "cell_type": "markdown",
   "metadata": {
    "id": "yqBNpIQSGVFk"
   },
   "source": [
    "### 查看訓練參數\n",
    "\n",
    "使用 `.weights` 以及 `.bias` 可以拿取模型所有的參數"
   ]
  },
  {
   "cell_type": "code",
   "execution_count": 182,
   "metadata": {
    "colab": {
     "base_uri": "https://localhost:8080/"
    },
    "executionInfo": {
     "elapsed": 3,
     "status": "ok",
     "timestamp": 1723621210881,
     "user": {
      "displayName": "Michael Chang",
      "userId": "17202199263773585491"
     },
     "user_tz": -480
    },
    "id": "kONYirYGGYNh",
    "outputId": "43f374c4-a4a5-4fe7-d7ee-279b60c84dd9"
   },
   "outputs": [
    {
     "name": "stdout",
     "output_type": "stream",
     "text": [
      "w1_true: 7 \n",
      "w2_true: 3 \n",
      "b_true: 10\n",
      "----------\n",
      "w1_pred: tensor(6.5013) \n",
      "w2_pred: tensor(3.4853) \n",
      "b_pred: tensor(10.0274)\n"
     ]
    }
   ],
   "source": [
    "w1_pred = model.fc.weight[0][0].data\n",
    "w2_pred = model.fc.weight[0][1].data\n",
    "b_pred = model.fc.bias[0].data\n",
    "\n",
    "print('w1_true:', 7, '\\nw2_true:', 3,'\\nb_true:', 10)\n",
    "print('-'*10)\n",
    "print('w1_pred:', w1_pred, '\\nw2_pred:', w2_pred, '\\nb_pred:', b_pred)"
   ]
  },
  {
   "cell_type": "markdown",
   "metadata": {
    "id": "G9s_-OKkzhci"
   },
   "source": [
    "### 視覺化結果\n"
   ]
  },
  {
   "cell_type": "code",
   "execution_count": 183,
   "metadata": {
    "colab": {
     "base_uri": "https://localhost:8080/",
     "height": 675
    },
    "executionInfo": {
     "elapsed": 18,
     "status": "ok",
     "timestamp": 1723621211972,
     "user": {
      "displayName": "Michael Chang",
      "userId": "17202199263773585491"
     },
     "user_tz": -480
    },
    "id": "-NbBfiHYzhci",
    "outputId": "bdb9ae8a-866a-4407-fc51-257e38d56a0d"
   },
   "outputs": [
    {
     "data": {
      "image/png": "[encoded data removed]",
      "text/plain": [
       "<Figure size 1000x800 with 1 Axes>"
      ]
     },
     "metadata": {},
     "output_type": "display_data"
    }
   ],
   "source": [
    "# 視覺化資料\n",
    "plt.figure(figsize=(10, 8))\n",
    "ax = plt.axes(projection='3d')\n",
    "ax.scatter(x_in[:,0], x_in[:,1], y_noise, label='$f(x,y)=7x+3y+10+\\\\epsilon$', alpha = 0.5)\n",
    "ax.scatter(x_in[:,0], x_in[:,1], y_pred, label='$f(x,y)=%1.4fx+%1.4fy+%1.4f$' % (w1_pred, w2_pred, b_pred), alpha=0.5)\n",
    "plt.title(f'loss={mse:.4f}')\n",
    "plt.legend(fontsize=15)\n",
    "ax.set_xlabel('X-axis')\n",
    "ax.set_ylabel('Y-axis')\n",
    "ax.set_zlabel('Z-axis')\n",
    "plt.show()"
   ]
  },
  {
   "cell_type": "markdown",
   "metadata": {
    "id": "Vi7d16nPzhck"
   },
   "source": [
    "# 三、 動手試試看 (三元一次多項式)，使用模型來進行一個訓練的流程"
   ]
  },
  {
   "cell_type": "markdown",
   "metadata": {
    "id": "FDn2Ne1jzhcn"
   },
   "source": [
    "\b通常資料和神經網路內部訓練的維度是非常高的，所以通常不可能像上面兩個例子畫得出來，只能從評分指標 (MSE, R2, Precision, Recall) 去觀察模型表現。\n",
    "\n",
    "請使用以下的資料點 $x$ 及 $y$ 去擬合函數：\n",
    "\n",
    "$$\n",
    "f(x_1,x_2,x_3) = 10x_1+8x_2+6x_3+4\n",
    "$$"
   ]
  },
  {
   "cell_type": "code",
   "execution_count": 184,
   "metadata": {
    "id": "6o2J9T-vzhcn"
   },
   "outputs": [],
   "source": [
    "import numpy as np\n",
    "import matplotlib.pyplot as plt\n",
    "import torch\n",
    "import torch.nn as nn\n",
    "import torch.nn.functional as F\n",
    "from torch.utils.data import Dataset, DataLoader\n",
    "import torch.optim as optim\n",
    "import torchvision\n",
    "from torchsummary import summary\n",
    "\n",
    "device = torch.device(\"cuda\" if torch.cuda.is_available() else \"cpu\")       # 使用Nvidia 顯卡"
   ]
  },
  {
   "cell_type": "markdown",
   "metadata": {
    "id": "7u2M4k_qtRyd"
   },
   "source": [
    "## 1. 準備資料集"
   ]
  },
  {
   "cell_type": "code",
   "execution_count": 185,
   "metadata": {
    "id": "nbjIBeuazhcp"
   },
   "outputs": [],
   "source": [
    "# 準備資料, 共四個維度 f(x1,x2,x3), x1, x2, x3\n",
    "x1 = np.float32(np.linspace(0, 1, 500))\n",
    "x2 = np.float32(np.linspace(0, 1, 500))\n",
    "x3 = np.float32(np.linspace(0, 1, 500))\n",
    "\n",
    "np.random.shuffle(x2)\n",
    "np.random.shuffle(x3)\n",
    "\n",
    "x_in = np.stack([x1, x2, x3], axis=1)\n",
    "\n",
    "y_true = 10 * x_in[:,0] + 8 * x_in[:,1] + 6 * x_in[:,2] + 4\n",
    "\n",
    "noise = np.float32(np.random.normal(0, 0.1, size=len(x1)))\n",
    "y_noise = y_true + noise"
   ]
  },
  {
   "cell_type": "code",
   "execution_count": 186,
   "metadata": {
    "colab": {
     "base_uri": "https://localhost:8080/"
    },
    "executionInfo": {
     "elapsed": 16,
     "status": "ok",
     "timestamp": 1723621211973,
     "user": {
      "displayName": "Michael Chang",
      "userId": "17202199263773585491"
     },
     "user_tz": -480
    },
    "id": "JZo7WeOZzhcr",
    "outputId": "c72851c2-ea14-4829-a4b1-804bdc97f7cf"
   },
   "outputs": [
    {
     "name": "stdout",
     "output_type": "stream",
     "text": [
      "x_in_shape: (500, 3)\n",
      "y_true_shape: (500,)\n",
      "y_noise_shape: (500,)\n"
     ]
    }
   ],
   "source": [
    "print('x_in_shape:', x_in.shape)\n",
    "print('y_true_shape:', y_true.shape)\n",
    "print('y_noise_shape:', y_noise.shape)"
   ]
  },
  {
   "cell_type": "code",
   "execution_count": 187,
   "metadata": {
    "colab": {
     "base_uri": "https://localhost:8080/"
    },
    "executionInfo": {
     "elapsed": 14,
     "status": "ok",
     "timestamp": 1723621211973,
     "user": {
      "displayName": "Michael Chang",
      "userId": "17202199263773585491"
     },
     "user_tz": -480
    },
    "id": "KRCNbL_EtRyd",
    "outputId": "65de537a-1327-42fc-f1c1-b44eedcd2b42"
   },
   "outputs": [
    {
     "name": "stdout",
     "output_type": "stream",
     "text": [
      "[array([0.        , 0.26452905, 0.9498998 ], dtype=float32), array([11.795069], dtype=float32)]\n"
     ]
    }
   ],
   "source": [
    "# 包成可供模型訓練的資料型態\n",
    "Train_list = []\n",
    "\n",
    "for i in range(len(x_in)):\n",
    "    Train_list.append([np.array(x_in[i]), np.array([y_noise[i]])])\n",
    "print(Train_list[0])"
   ]
  },
  {
   "cell_type": "markdown",
   "metadata": {
    "id": "Rg17eKa44Kee"
   },
   "source": [
    "## 2. 建立模型\n",
    "\n",
    "接下來使用 model subclassing 的方式建立模型。"
   ]
  },
  {
   "cell_type": "code",
   "execution_count": 188,
   "metadata": {
    "id": "-C1oPDM135KE"
   },
   "outputs": [],
   "source": [
    "import torch.nn as nn\n",
    "\n",
    "class DNN_test(nn.Module):\n",
    "    def __init__(self):\n",
    "        super(DNN_test, self).__init__()\n",
    "        self.fc = nn.Linear(in_features=3, out_features=1, bias=True)\n",
    "\n",
    "    def forward(self, x):\n",
    "        output = self.fc(x)\n",
    "        return output"
   ]
  },
  {
   "cell_type": "markdown",
   "metadata": {
    "id": "1Ci18r624XDu"
   },
   "source": [
    "### 查看訓練參數\n",
    "\n",
    "使用 `.weight` 以及 `.bias` 可以拿取模型所有的參數"
   ]
  },
  {
   "cell_type": "code",
   "execution_count": 189,
   "metadata": {
    "colab": {
     "base_uri": "https://localhost:8080/",
     "height": 108
    },
    "executionInfo": {
     "elapsed": 12,
     "status": "error",
     "timestamp": 1723621211973,
     "user": {
      "displayName": "Michael Chang",
      "userId": "17202199263773585491"
     },
     "user_tz": -480
    },
    "id": "WPubjZLa4meQ",
    "outputId": "6b970f6e-a8f0-4817-bdd4-ed9897be0c41"
   },
   "outputs": [
    {
     "name": "stdout",
     "output_type": "stream",
     "text": [
      "w1_true: 10 \n",
      "w2_true: 8 \n",
      "w3_true: 6 \n",
      "b_true: 4\n",
      "----------\n",
      "w1_pred: tensor(0.0398) \n",
      "w2_pred: tensor(0.0634) \n",
      "w3_pred: tensor(0.2035) \n",
      "b_pred: tensor(-0.3046)\n"
     ]
    }
   ],
   "source": [
    "# 建立模型\n",
    "model = DNN_test().to(device)\n",
    "\n",
    "# 正確存取參數\n",
    "w1_pred = model.fc.weight[0][0].data\n",
    "w2_pred = model.fc.weight[0][1].data\n",
    "w3_pred = model.fc.weight[0][2].data\n",
    "b_pred = model.fc.bias[0].data\n",
    "\n",
    "\n",
    "print('w1_true:', 10, '\\nw2_true:', 8, '\\nw3_true:', 6, '\\nb_true:', 4)\n",
    "print('-'*10)\n",
    "print('w1_pred:', w1_pred, '\\nw2_pred:', w2_pred, '\\nw3_pred:', w3_pred, '\\nb_pred:', b_pred)"
   ]
  },
  {
   "cell_type": "markdown",
   "metadata": {
    "id": "ss9SNZam4PCD"
   },
   "source": [
    "## 3. 模型設定\n",
    "\n",
    "* Opimitizer 請使用 `SGD`, `learning_rate` 請設定為 `1e-2`\n",
    "* Loss 請使用 `mean_squared_error`\n",
    "* epochs 大小請設定 `300`"
   ]
  },
  {
   "cell_type": "code",
   "execution_count": 190,
   "metadata": {
    "id": "TYZDXz-05F_l"
   },
   "outputs": [],
   "source": [
    "# 設定損失函數 - 使用 mean_squared_error (MSE)\n",
    "criterion = nn.MSELoss()\n",
    "\n",
    "# 設定學習率 - 1e-2 = 0.01\n",
    "lr = 1e-2\n",
    "\n",
    "# 設定訓練週期數 - 300 個 epochs\n",
    "epochs = 300\n",
    "\n",
    "# 設定優化器 - 使用 SGD\n",
    "optimizer = optim.SGD(model.parameters(), lr=lr, momentum=0.9)"
   ]
  },
  {
   "cell_type": "markdown",
   "metadata": {
    "id": "Rjo5RFdxtRyd"
   },
   "source": [
    "## 4. 模型的訓練\n",
    "\n",
    "在 pytorch 的模型訓練中，我們需要有幾個步驟來完成訓練:\n",
    "1. 使用迴圈來決定要訓練幾個 epoch\n",
    "2. 一次訓練一個 batch，看完所有的訓練資料後就結束一個 epoch\n",
    "3. 先進行模型 feed forward 的動作\n",
    "4. feed forward 後會有模型預測出來的結果，將結果去對應到真實標籤，然後計算出 loss\n",
    "5. 有 loss 的話就能回推 gradients\n",
    "6. 使用 gradients 的結果來更新 weight，這時候就是優化器來決定更新方式\n",
    "7. 重複以上步驟"
   ]
  },
  {
   "cell_type": "code",
   "execution_count": 191,
   "metadata": {
    "id": "6ENOsw1d5Xft"
   },
   "outputs": [
    {
     "name": "stdout",
     "output_type": "stream",
     "text": [
      "Epoch [1/300], Loss: 1.9692\n",
      "Epoch [2/300], Loss: 0.8015\n",
      "Epoch [3/300], Loss: 0.4285\n",
      "Epoch [4/300], Loss: 0.2305\n",
      "Epoch [3/300], Loss: 0.4285\n",
      "Epoch [4/300], Loss: 0.2305\n",
      "Epoch [5/300], Loss: 0.1258\n",
      "Epoch [6/300], Loss: 0.0707\n",
      "Epoch [5/300], Loss: 0.1258\n",
      "Epoch [6/300], Loss: 0.0707\n",
      "Epoch [7/300], Loss: 0.0419\n",
      "Epoch [8/300], Loss: 0.0271\n",
      "Epoch [7/300], Loss: 0.0419\n",
      "Epoch [8/300], Loss: 0.0271\n",
      "Epoch [9/300], Loss: 0.0195\n",
      "Epoch [10/300], Loss: 0.0158\n",
      "Epoch [9/300], Loss: 0.0195\n",
      "Epoch [10/300], Loss: 0.0158\n",
      "Epoch [11/300], Loss: 0.0140\n",
      "Epoch [12/300], Loss: 0.0132\n",
      "Epoch [11/300], Loss: 0.0140\n",
      "Epoch [12/300], Loss: 0.0132\n",
      "Epoch [13/300], Loss: 0.0129\n",
      "Epoch [14/300], Loss: 0.0129\n",
      "Epoch [13/300], Loss: 0.0129\n",
      "Epoch [14/300], Loss: 0.0129\n",
      "Epoch [15/300], Loss: 0.0129\n",
      "Epoch [16/300], Loss: 0.0130\n",
      "Epoch [15/300], Loss: 0.0129\n",
      "Epoch [16/300], Loss: 0.0130\n",
      "Epoch [17/300], Loss: 0.0130\n",
      "Epoch [18/300], Loss: 0.0131\n",
      "Epoch [17/300], Loss: 0.0130\n",
      "Epoch [18/300], Loss: 0.0131\n",
      "Epoch [19/300], Loss: 0.0131\n",
      "Epoch [20/300], Loss: 0.0132\n",
      "Epoch [19/300], Loss: 0.0131\n",
      "Epoch [20/300], Loss: 0.0132\n",
      "Epoch [21/300], Loss: 0.0132\n",
      "Epoch [22/300], Loss: 0.0132\n",
      "Epoch [21/300], Loss: 0.0132\n",
      "Epoch [22/300], Loss: 0.0132\n",
      "Epoch [23/300], Loss: 0.0133\n",
      "Epoch [24/300], Loss: 0.0133\n",
      "Epoch [23/300], Loss: 0.0133\n",
      "Epoch [24/300], Loss: 0.0133\n",
      "Epoch [25/300], Loss: 0.0133\n",
      "Epoch [26/300], Loss: 0.0133\n",
      "Epoch [25/300], Loss: 0.0133\n",
      "Epoch [26/300], Loss: 0.0133\n",
      "Epoch [27/300], Loss: 0.0133\n",
      "Epoch [28/300], Loss: 0.0133\n",
      "Epoch [27/300], Loss: 0.0133\n",
      "Epoch [28/300], Loss: 0.0133\n",
      "Epoch [29/300], Loss: 0.0133\n",
      "Epoch [30/300], Loss: 0.0133\n",
      "Epoch [29/300], Loss: 0.0133\n",
      "Epoch [30/300], Loss: 0.0133\n",
      "Epoch [31/300], Loss: 0.0133\n",
      "Epoch [32/300], Loss: 0.0133\n",
      "Epoch [31/300], Loss: 0.0133\n",
      "Epoch [32/300], Loss: 0.0133\n",
      "Epoch [33/300], Loss: 0.0133\n",
      "Epoch [34/300], Loss: 0.0133\n",
      "Epoch [33/300], Loss: 0.0133\n",
      "Epoch [34/300], Loss: 0.0133\n",
      "Epoch [35/300], Loss: 0.0133\n",
      "Epoch [36/300], Loss: 0.0133\n",
      "Epoch [35/300], Loss: 0.0133\n",
      "Epoch [36/300], Loss: 0.0133\n",
      "Epoch [37/300], Loss: 0.0133\n",
      "Epoch [38/300], Loss: 0.0133\n",
      "Epoch [37/300], Loss: 0.0133\n",
      "Epoch [38/300], Loss: 0.0133\n",
      "Epoch [39/300], Loss: 0.0133\n",
      "Epoch [40/300], Loss: 0.0133\n",
      "Epoch [39/300], Loss: 0.0133\n",
      "Epoch [40/300], Loss: 0.0133\n",
      "Epoch [41/300], Loss: 0.0133\n",
      "Epoch [42/300], Loss: 0.0133\n",
      "Epoch [41/300], Loss: 0.0133\n",
      "Epoch [42/300], Loss: 0.0133\n",
      "Epoch [43/300], Loss: 0.0133\n",
      "Epoch [44/300], Loss: 0.0133\n",
      "Epoch [43/300], Loss: 0.0133\n",
      "Epoch [44/300], Loss: 0.0133\n",
      "Epoch [45/300], Loss: 0.0133\n",
      "Epoch [46/300], Loss: 0.0133\n",
      "Epoch [45/300], Loss: 0.0133\n",
      "Epoch [46/300], Loss: 0.0133\n",
      "Epoch [47/300], Loss: 0.0133\n",
      "Epoch [48/300], Loss: 0.0133\n",
      "Epoch [47/300], Loss: 0.0133\n",
      "Epoch [48/300], Loss: 0.0133\n",
      "Epoch [49/300], Loss: 0.0133\n",
      "Epoch [50/300], Loss: 0.0133\n",
      "Epoch [49/300], Loss: 0.0133\n",
      "Epoch [50/300], Loss: 0.0133\n",
      "Epoch [51/300], Loss: 0.0133\n",
      "Epoch [52/300], Loss: 0.0133\n",
      "Epoch [51/300], Loss: 0.0133\n",
      "Epoch [52/300], Loss: 0.0133\n",
      "Epoch [53/300], Loss: 0.0133\n",
      "Epoch [54/300], Loss: 0.0133\n",
      "Epoch [53/300], Loss: 0.0133\n",
      "Epoch [54/300], Loss: 0.0133\n",
      "Epoch [55/300], Loss: 0.0133\n",
      "Epoch [56/300], Loss: 0.0133\n",
      "Epoch [55/300], Loss: 0.0133\n",
      "Epoch [56/300], Loss: 0.0133\n",
      "Epoch [57/300], Loss: 0.0133\n",
      "Epoch [58/300], Loss: 0.0133\n",
      "Epoch [57/300], Loss: 0.0133\n",
      "Epoch [58/300], Loss: 0.0133\n",
      "Epoch [59/300], Loss: 0.0133\n",
      "Epoch [60/300], Loss: 0.0133\n",
      "Epoch [59/300], Loss: 0.0133\n",
      "Epoch [60/300], Loss: 0.0133\n",
      "Epoch [61/300], Loss: 0.0133\n",
      "Epoch [62/300], Loss: 0.0133\n",
      "Epoch [61/300], Loss: 0.0133\n",
      "Epoch [62/300], Loss: 0.0133\n",
      "Epoch [63/300], Loss: 0.0133\n",
      "Epoch [64/300], Loss: 0.0133\n",
      "Epoch [63/300], Loss: 0.0133\n",
      "Epoch [64/300], Loss: 0.0133\n",
      "Epoch [65/300], Loss: 0.0133\n",
      "Epoch [66/300], Loss: 0.0133\n",
      "Epoch [65/300], Loss: 0.0133\n",
      "Epoch [66/300], Loss: 0.0133\n",
      "Epoch [67/300], Loss: 0.0133\n",
      "Epoch [68/300], Loss: 0.0133\n",
      "Epoch [67/300], Loss: 0.0133\n",
      "Epoch [68/300], Loss: 0.0133\n",
      "Epoch [69/300], Loss: 0.0133\n",
      "Epoch [70/300], Loss: 0.0133\n",
      "Epoch [69/300], Loss: 0.0133\n",
      "Epoch [70/300], Loss: 0.0133\n",
      "Epoch [71/300], Loss: 0.0133\n",
      "Epoch [72/300], Loss: 0.0133\n",
      "Epoch [71/300], Loss: 0.0133\n",
      "Epoch [72/300], Loss: 0.0133\n",
      "Epoch [73/300], Loss: 0.0133\n",
      "Epoch [74/300], Loss: 0.0133\n",
      "Epoch [73/300], Loss: 0.0133\n",
      "Epoch [74/300], Loss: 0.0133\n",
      "Epoch [75/300], Loss: 0.0133\n",
      "Epoch [76/300], Loss: 0.0133\n",
      "Epoch [75/300], Loss: 0.0133\n",
      "Epoch [76/300], Loss: 0.0133\n",
      "Epoch [77/300], Loss: 0.0133\n",
      "Epoch [78/300], Loss: 0.0133\n",
      "Epoch [77/300], Loss: 0.0133\n",
      "Epoch [78/300], Loss: 0.0133\n",
      "Epoch [79/300], Loss: 0.0133\n",
      "Epoch [80/300], Loss: 0.0133\n",
      "Epoch [79/300], Loss: 0.0133\n",
      "Epoch [80/300], Loss: 0.0133\n",
      "Epoch [81/300], Loss: 0.0133\n",
      "Epoch [82/300], Loss: 0.0133\n",
      "Epoch [81/300], Loss: 0.0133\n",
      "Epoch [82/300], Loss: 0.0133\n",
      "Epoch [83/300], Loss: 0.0133\n",
      "Epoch [84/300], Loss: 0.0133\n",
      "Epoch [83/300], Loss: 0.0133\n",
      "Epoch [84/300], Loss: 0.0133\n",
      "Epoch [85/300], Loss: 0.0133\n",
      "Epoch [86/300], Loss: 0.0133\n",
      "Epoch [85/300], Loss: 0.0133\n",
      "Epoch [86/300], Loss: 0.0133\n",
      "Epoch [87/300], Loss: 0.0133\n",
      "Epoch [88/300], Loss: 0.0133\n",
      "Epoch [87/300], Loss: 0.0133\n",
      "Epoch [88/300], Loss: 0.0133\n",
      "Epoch [89/300], Loss: 0.0133\n",
      "Epoch [90/300], Loss: 0.0133\n",
      "Epoch [89/300], Loss: 0.0133\n",
      "Epoch [90/300], Loss: 0.0133\n",
      "Epoch [91/300], Loss: 0.0133\n",
      "Epoch [92/300], Loss: 0.0133\n",
      "Epoch [91/300], Loss: 0.0133\n",
      "Epoch [92/300], Loss: 0.0133\n",
      "Epoch [93/300], Loss: 0.0133\n",
      "Epoch [94/300], Loss: 0.0133\n",
      "Epoch [93/300], Loss: 0.0133\n",
      "Epoch [94/300], Loss: 0.0133\n",
      "Epoch [95/300], Loss: 0.0133\n",
      "Epoch [96/300], Loss: 0.0133\n",
      "Epoch [95/300], Loss: 0.0133\n",
      "Epoch [96/300], Loss: 0.0133\n",
      "Epoch [97/300], Loss: 0.0133\n",
      "Epoch [98/300], Loss: 0.0133\n",
      "Epoch [97/300], Loss: 0.0133\n",
      "Epoch [98/300], Loss: 0.0133\n",
      "Epoch [99/300], Loss: 0.0133\n",
      "Epoch [100/300], Loss: 0.0133\n",
      "Epoch [99/300], Loss: 0.0133\n",
      "Epoch [100/300], Loss: 0.0133\n",
      "Epoch [101/300], Loss: 0.0133\n",
      "Epoch [102/300], Loss: 0.0133\n",
      "Epoch [101/300], Loss: 0.0133\n",
      "Epoch [102/300], Loss: 0.0133\n",
      "Epoch [103/300], Loss: 0.0133\n",
      "Epoch [104/300], Loss: 0.0133\n",
      "Epoch [103/300], Loss: 0.0133\n",
      "Epoch [104/300], Loss: 0.0133\n",
      "Epoch [105/300], Loss: 0.0133\n",
      "Epoch [106/300], Loss: 0.0133\n",
      "Epoch [105/300], Loss: 0.0133\n",
      "Epoch [106/300], Loss: 0.0133\n",
      "Epoch [107/300], Loss: 0.0133\n",
      "Epoch [108/300], Loss: 0.0133\n",
      "Epoch [107/300], Loss: 0.0133\n",
      "Epoch [108/300], Loss: 0.0133\n",
      "Epoch [109/300], Loss: 0.0133\n",
      "Epoch [110/300], Loss: 0.0133\n",
      "Epoch [109/300], Loss: 0.0133\n",
      "Epoch [110/300], Loss: 0.0133\n",
      "Epoch [111/300], Loss: 0.0133\n",
      "Epoch [112/300], Loss: 0.0133\n",
      "Epoch [111/300], Loss: 0.0133\n",
      "Epoch [112/300], Loss: 0.0133\n",
      "Epoch [113/300], Loss: 0.0133\n",
      "Epoch [114/300], Loss: 0.0133\n",
      "Epoch [113/300], Loss: 0.0133\n",
      "Epoch [114/300], Loss: 0.0133\n",
      "Epoch [115/300], Loss: 0.0133\n",
      "Epoch [116/300], Loss: 0.0133\n",
      "Epoch [115/300], Loss: 0.0133\n",
      "Epoch [116/300], Loss: 0.0133\n",
      "Epoch [117/300], Loss: 0.0133\n",
      "Epoch [118/300], Loss: 0.0133\n",
      "Epoch [117/300], Loss: 0.0133\n",
      "Epoch [118/300], Loss: 0.0133\n",
      "Epoch [119/300], Loss: 0.0133\n",
      "Epoch [120/300], Loss: 0.0133\n",
      "Epoch [119/300], Loss: 0.0133\n",
      "Epoch [120/300], Loss: 0.0133\n",
      "Epoch [121/300], Loss: 0.0133\n",
      "Epoch [122/300], Loss: 0.0133\n",
      "Epoch [121/300], Loss: 0.0133\n",
      "Epoch [122/300], Loss: 0.0133\n",
      "Epoch [123/300], Loss: 0.0133\n",
      "Epoch [124/300], Loss: 0.0133\n",
      "Epoch [123/300], Loss: 0.0133\n",
      "Epoch [124/300], Loss: 0.0133\n",
      "Epoch [125/300], Loss: 0.0133\n",
      "Epoch [126/300], Loss: 0.0133\n",
      "Epoch [125/300], Loss: 0.0133\n",
      "Epoch [126/300], Loss: 0.0133\n",
      "Epoch [127/300], Loss: 0.0133\n",
      "Epoch [128/300], Loss: 0.0133\n",
      "Epoch [127/300], Loss: 0.0133\n",
      "Epoch [128/300], Loss: 0.0133\n",
      "Epoch [129/300], Loss: 0.0133\n",
      "Epoch [130/300], Loss: 0.0133\n",
      "Epoch [129/300], Loss: 0.0133\n",
      "Epoch [130/300], Loss: 0.0133\n",
      "Epoch [131/300], Loss: 0.0133\n",
      "Epoch [132/300], Loss: 0.0133\n",
      "Epoch [131/300], Loss: 0.0133\n",
      "Epoch [132/300], Loss: 0.0133\n",
      "Epoch [133/300], Loss: 0.0133\n",
      "Epoch [134/300], Loss: 0.0133\n",
      "Epoch [133/300], Loss: 0.0133\n",
      "Epoch [134/300], Loss: 0.0133\n",
      "Epoch [135/300], Loss: 0.0133\n",
      "Epoch [136/300], Loss: 0.0133\n",
      "Epoch [135/300], Loss: 0.0133\n",
      "Epoch [136/300], Loss: 0.0133\n",
      "Epoch [137/300], Loss: 0.0133\n",
      "Epoch [138/300], Loss: 0.0133\n",
      "Epoch [137/300], Loss: 0.0133\n",
      "Epoch [138/300], Loss: 0.0133\n",
      "Epoch [139/300], Loss: 0.0133\n",
      "Epoch [140/300], Loss: 0.0133\n",
      "Epoch [139/300], Loss: 0.0133\n",
      "Epoch [140/300], Loss: 0.0133\n",
      "Epoch [141/300], Loss: 0.0133\n",
      "Epoch [142/300], Loss: 0.0133\n",
      "Epoch [141/300], Loss: 0.0133\n",
      "Epoch [142/300], Loss: 0.0133\n",
      "Epoch [143/300], Loss: 0.0133\n",
      "Epoch [144/300], Loss: 0.0133\n",
      "Epoch [143/300], Loss: 0.0133\n",
      "Epoch [144/300], Loss: 0.0133\n",
      "Epoch [145/300], Loss: 0.0133\n",
      "Epoch [146/300], Loss: 0.0133\n",
      "Epoch [145/300], Loss: 0.0133\n",
      "Epoch [146/300], Loss: 0.0133\n",
      "Epoch [147/300], Loss: 0.0133\n",
      "Epoch [148/300], Loss: 0.0133\n",
      "Epoch [147/300], Loss: 0.0133\n",
      "Epoch [148/300], Loss: 0.0133\n",
      "Epoch [149/300], Loss: 0.0133\n",
      "Epoch [150/300], Loss: 0.0133\n",
      "Epoch [149/300], Loss: 0.0133\n",
      "Epoch [150/300], Loss: 0.0133\n",
      "Epoch [151/300], Loss: 0.0133\n",
      "Epoch [152/300], Loss: 0.0133\n",
      "Epoch [151/300], Loss: 0.0133\n",
      "Epoch [152/300], Loss: 0.0133\n",
      "Epoch [153/300], Loss: 0.0133\n",
      "Epoch [154/300], Loss: 0.0133\n",
      "Epoch [153/300], Loss: 0.0133\n",
      "Epoch [154/300], Loss: 0.0133\n",
      "Epoch [155/300], Loss: 0.0133\n",
      "Epoch [156/300], Loss: 0.0133\n",
      "Epoch [155/300], Loss: 0.0133\n",
      "Epoch [156/300], Loss: 0.0133\n",
      "Epoch [157/300], Loss: 0.0133\n",
      "Epoch [158/300], Loss: 0.0133\n",
      "Epoch [157/300], Loss: 0.0133\n",
      "Epoch [158/300], Loss: 0.0133\n",
      "Epoch [159/300], Loss: 0.0133\n",
      "Epoch [160/300], Loss: 0.0133\n",
      "Epoch [159/300], Loss: 0.0133\n",
      "Epoch [160/300], Loss: 0.0133\n",
      "Epoch [161/300], Loss: 0.0133\n",
      "Epoch [162/300], Loss: 0.0133\n",
      "Epoch [161/300], Loss: 0.0133\n",
      "Epoch [162/300], Loss: 0.0133\n",
      "Epoch [163/300], Loss: 0.0133\n",
      "Epoch [164/300], Loss: 0.0133\n",
      "Epoch [163/300], Loss: 0.0133\n",
      "Epoch [164/300], Loss: 0.0133\n",
      "Epoch [165/300], Loss: 0.0133\n",
      "Epoch [166/300], Loss: 0.0133\n",
      "Epoch [165/300], Loss: 0.0133\n",
      "Epoch [166/300], Loss: 0.0133\n",
      "Epoch [167/300], Loss: 0.0133\n",
      "Epoch [168/300], Loss: 0.0133\n",
      "Epoch [167/300], Loss: 0.0133\n",
      "Epoch [168/300], Loss: 0.0133\n",
      "Epoch [169/300], Loss: 0.0133\n",
      "Epoch [170/300], Loss: 0.0133\n",
      "Epoch [169/300], Loss: 0.0133\n",
      "Epoch [170/300], Loss: 0.0133\n",
      "Epoch [171/300], Loss: 0.0133\n",
      "Epoch [172/300], Loss: 0.0133\n",
      "Epoch [171/300], Loss: 0.0133\n",
      "Epoch [172/300], Loss: 0.0133\n",
      "Epoch [173/300], Loss: 0.0133\n",
      "Epoch [174/300], Loss: 0.0133\n",
      "Epoch [173/300], Loss: 0.0133\n",
      "Epoch [174/300], Loss: 0.0133\n",
      "Epoch [175/300], Loss: 0.0133\n",
      "Epoch [176/300], Loss: 0.0133\n",
      "Epoch [175/300], Loss: 0.0133\n",
      "Epoch [176/300], Loss: 0.0133\n",
      "Epoch [177/300], Loss: 0.0133\n",
      "Epoch [178/300], Loss: 0.0133\n",
      "Epoch [177/300], Loss: 0.0133\n",
      "Epoch [178/300], Loss: 0.0133\n",
      "Epoch [179/300], Loss: 0.0133\n",
      "Epoch [180/300], Loss: 0.0133\n",
      "Epoch [179/300], Loss: 0.0133\n",
      "Epoch [180/300], Loss: 0.0133\n",
      "Epoch [181/300], Loss: 0.0133\n",
      "Epoch [182/300], Loss: 0.0133\n",
      "Epoch [181/300], Loss: 0.0133\n",
      "Epoch [182/300], Loss: 0.0133\n",
      "Epoch [183/300], Loss: 0.0133\n",
      "Epoch [184/300], Loss: 0.0133\n",
      "Epoch [183/300], Loss: 0.0133\n",
      "Epoch [184/300], Loss: 0.0133\n",
      "Epoch [185/300], Loss: 0.0133\n",
      "Epoch [186/300], Loss: 0.0133\n",
      "Epoch [185/300], Loss: 0.0133\n",
      "Epoch [186/300], Loss: 0.0133\n",
      "Epoch [187/300], Loss: 0.0133\n",
      "Epoch [188/300], Loss: 0.0133\n",
      "Epoch [187/300], Loss: 0.0133\n",
      "Epoch [188/300], Loss: 0.0133\n",
      "Epoch [189/300], Loss: 0.0133\n",
      "Epoch [190/300], Loss: 0.0133\n",
      "Epoch [189/300], Loss: 0.0133\n",
      "Epoch [190/300], Loss: 0.0133\n",
      "Epoch [191/300], Loss: 0.0133\n",
      "Epoch [192/300], Loss: 0.0133\n",
      "Epoch [191/300], Loss: 0.0133\n",
      "Epoch [192/300], Loss: 0.0133\n",
      "Epoch [193/300], Loss: 0.0133\n",
      "Epoch [194/300], Loss: 0.0133\n",
      "Epoch [193/300], Loss: 0.0133\n",
      "Epoch [194/300], Loss: 0.0133\n",
      "Epoch [195/300], Loss: 0.0133\n",
      "Epoch [196/300], Loss: 0.0133\n",
      "Epoch [195/300], Loss: 0.0133\n",
      "Epoch [196/300], Loss: 0.0133\n",
      "Epoch [197/300], Loss: 0.0133\n",
      "Epoch [198/300], Loss: 0.0133\n",
      "Epoch [197/300], Loss: 0.0133\n",
      "Epoch [198/300], Loss: 0.0133\n",
      "Epoch [199/300], Loss: 0.0133\n",
      "Epoch [200/300], Loss: 0.0133\n",
      "Epoch [199/300], Loss: 0.0133\n",
      "Epoch [200/300], Loss: 0.0133\n",
      "Epoch [201/300], Loss: 0.0133\n",
      "Epoch [202/300], Loss: 0.0133\n",
      "Epoch [201/300], Loss: 0.0133\n",
      "Epoch [202/300], Loss: 0.0133\n",
      "Epoch [203/300], Loss: 0.0133\n",
      "Epoch [204/300], Loss: 0.0133\n",
      "Epoch [203/300], Loss: 0.0133\n",
      "Epoch [204/300], Loss: 0.0133\n",
      "Epoch [205/300], Loss: 0.0133\n",
      "Epoch [206/300], Loss: 0.0133\n",
      "Epoch [205/300], Loss: 0.0133\n",
      "Epoch [206/300], Loss: 0.0133\n",
      "Epoch [207/300], Loss: 0.0133\n",
      "Epoch [208/300], Loss: 0.0133\n",
      "Epoch [207/300], Loss: 0.0133\n",
      "Epoch [208/300], Loss: 0.0133\n",
      "Epoch [209/300], Loss: 0.0133\n",
      "Epoch [210/300], Loss: 0.0133\n",
      "Epoch [209/300], Loss: 0.0133\n",
      "Epoch [210/300], Loss: 0.0133\n",
      "Epoch [211/300], Loss: 0.0133\n",
      "Epoch [212/300], Loss: 0.0133\n",
      "Epoch [211/300], Loss: 0.0133\n",
      "Epoch [212/300], Loss: 0.0133\n",
      "Epoch [213/300], Loss: 0.0133\n",
      "Epoch [214/300], Loss: 0.0133\n",
      "Epoch [213/300], Loss: 0.0133\n",
      "Epoch [214/300], Loss: 0.0133\n",
      "Epoch [215/300], Loss: 0.0133\n",
      "Epoch [216/300], Loss: 0.0133\n",
      "Epoch [215/300], Loss: 0.0133\n",
      "Epoch [216/300], Loss: 0.0133\n",
      "Epoch [217/300], Loss: 0.0133\n",
      "Epoch [218/300], Loss: 0.0133\n",
      "Epoch [217/300], Loss: 0.0133\n",
      "Epoch [218/300], Loss: 0.0133\n",
      "Epoch [219/300], Loss: 0.0133\n",
      "Epoch [220/300], Loss: 0.0133\n",
      "Epoch [219/300], Loss: 0.0133\n",
      "Epoch [220/300], Loss: 0.0133\n",
      "Epoch [221/300], Loss: 0.0133\n",
      "Epoch [222/300], Loss: 0.0133\n",
      "Epoch [221/300], Loss: 0.0133\n",
      "Epoch [222/300], Loss: 0.0133\n",
      "Epoch [223/300], Loss: 0.0133\n",
      "Epoch [224/300], Loss: 0.0133\n",
      "Epoch [223/300], Loss: 0.0133\n",
      "Epoch [224/300], Loss: 0.0133\n",
      "Epoch [225/300], Loss: 0.0133\n",
      "Epoch [226/300], Loss: 0.0133\n",
      "Epoch [225/300], Loss: 0.0133\n",
      "Epoch [226/300], Loss: 0.0133\n",
      "Epoch [227/300], Loss: 0.0133\n",
      "Epoch [228/300], Loss: 0.0133\n",
      "Epoch [227/300], Loss: 0.0133\n",
      "Epoch [228/300], Loss: 0.0133\n",
      "Epoch [229/300], Loss: 0.0133\n",
      "Epoch [230/300], Loss: 0.0133\n",
      "Epoch [229/300], Loss: 0.0133\n",
      "Epoch [230/300], Loss: 0.0133\n",
      "Epoch [231/300], Loss: 0.0133\n",
      "Epoch [232/300], Loss: 0.0133\n",
      "Epoch [231/300], Loss: 0.0133\n",
      "Epoch [232/300], Loss: 0.0133\n",
      "Epoch [233/300], Loss: 0.0133\n",
      "Epoch [234/300], Loss: 0.0133\n",
      "Epoch [233/300], Loss: 0.0133\n",
      "Epoch [234/300], Loss: 0.0133\n",
      "Epoch [235/300], Loss: 0.0133\n",
      "Epoch [236/300], Loss: 0.0133\n",
      "Epoch [235/300], Loss: 0.0133\n",
      "Epoch [236/300], Loss: 0.0133\n",
      "Epoch [237/300], Loss: 0.0133\n",
      "Epoch [238/300], Loss: 0.0133\n",
      "Epoch [237/300], Loss: 0.0133\n",
      "Epoch [238/300], Loss: 0.0133\n",
      "Epoch [239/300], Loss: 0.0133\n",
      "Epoch [240/300], Loss: 0.0133\n",
      "Epoch [239/300], Loss: 0.0133\n",
      "Epoch [240/300], Loss: 0.0133\n",
      "Epoch [241/300], Loss: 0.0133\n",
      "Epoch [242/300], Loss: 0.0133\n",
      "Epoch [241/300], Loss: 0.0133\n",
      "Epoch [242/300], Loss: 0.0133\n",
      "Epoch [243/300], Loss: 0.0133\n",
      "Epoch [244/300], Loss: 0.0133\n",
      "Epoch [243/300], Loss: 0.0133\n",
      "Epoch [244/300], Loss: 0.0133\n",
      "Epoch [245/300], Loss: 0.0133\n",
      "Epoch [246/300], Loss: 0.0133\n",
      "Epoch [245/300], Loss: 0.0133\n",
      "Epoch [246/300], Loss: 0.0133\n",
      "Epoch [247/300], Loss: 0.0133\n",
      "Epoch [248/300], Loss: 0.0133\n",
      "Epoch [247/300], Loss: 0.0133\n",
      "Epoch [248/300], Loss: 0.0133\n",
      "Epoch [249/300], Loss: 0.0133\n",
      "Epoch [250/300], Loss: 0.0133\n",
      "Epoch [249/300], Loss: 0.0133\n",
      "Epoch [250/300], Loss: 0.0133\n",
      "Epoch [251/300], Loss: 0.0133\n",
      "Epoch [252/300], Loss: 0.0133\n",
      "Epoch [251/300], Loss: 0.0133\n",
      "Epoch [252/300], Loss: 0.0133\n",
      "Epoch [253/300], Loss: 0.0133\n",
      "Epoch [254/300], Loss: 0.0133\n",
      "Epoch [253/300], Loss: 0.0133\n",
      "Epoch [254/300], Loss: 0.0133\n",
      "Epoch [255/300], Loss: 0.0133\n",
      "Epoch [256/300], Loss: 0.0133\n",
      "Epoch [255/300], Loss: 0.0133\n",
      "Epoch [256/300], Loss: 0.0133\n",
      "Epoch [257/300], Loss: 0.0133\n",
      "Epoch [258/300], Loss: 0.0133\n",
      "Epoch [257/300], Loss: 0.0133\n",
      "Epoch [258/300], Loss: 0.0133\n",
      "Epoch [259/300], Loss: 0.0133\n",
      "Epoch [260/300], Loss: 0.0133\n",
      "Epoch [259/300], Loss: 0.0133\n",
      "Epoch [260/300], Loss: 0.0133\n",
      "Epoch [261/300], Loss: 0.0133\n",
      "Epoch [262/300], Loss: 0.0133\n",
      "Epoch [261/300], Loss: 0.0133\n",
      "Epoch [262/300], Loss: 0.0133\n",
      "Epoch [263/300], Loss: 0.0133\n",
      "Epoch [264/300], Loss: 0.0133\n",
      "Epoch [263/300], Loss: 0.0133\n",
      "Epoch [264/300], Loss: 0.0133\n",
      "Epoch [265/300], Loss: 0.0133\n",
      "Epoch [266/300], Loss: 0.0133\n",
      "Epoch [265/300], Loss: 0.0133\n",
      "Epoch [266/300], Loss: 0.0133\n",
      "Epoch [267/300], Loss: 0.0133\n",
      "Epoch [268/300], Loss: 0.0133\n",
      "Epoch [267/300], Loss: 0.0133\n",
      "Epoch [268/300], Loss: 0.0133\n",
      "Epoch [269/300], Loss: 0.0133\n",
      "Epoch [270/300], Loss: 0.0133\n",
      "Epoch [269/300], Loss: 0.0133\n",
      "Epoch [270/300], Loss: 0.0133\n",
      "Epoch [271/300], Loss: 0.0133\n",
      "Epoch [272/300], Loss: 0.0133\n",
      "Epoch [271/300], Loss: 0.0133\n",
      "Epoch [272/300], Loss: 0.0133\n",
      "Epoch [273/300], Loss: 0.0133\n",
      "Epoch [274/300], Loss: 0.0133\n",
      "Epoch [273/300], Loss: 0.0133\n",
      "Epoch [274/300], Loss: 0.0133\n",
      "Epoch [275/300], Loss: 0.0133\n",
      "Epoch [276/300], Loss: 0.0133\n",
      "Epoch [275/300], Loss: 0.0133\n",
      "Epoch [276/300], Loss: 0.0133\n",
      "Epoch [277/300], Loss: 0.0133\n",
      "Epoch [278/300], Loss: 0.0133\n",
      "Epoch [277/300], Loss: 0.0133\n",
      "Epoch [278/300], Loss: 0.0133\n",
      "Epoch [279/300], Loss: 0.0133\n",
      "Epoch [280/300], Loss: 0.0133\n",
      "Epoch [279/300], Loss: 0.0133\n",
      "Epoch [280/300], Loss: 0.0133\n",
      "Epoch [281/300], Loss: 0.0133\n",
      "Epoch [282/300], Loss: 0.0133\n",
      "Epoch [281/300], Loss: 0.0133\n",
      "Epoch [282/300], Loss: 0.0133\n",
      "Epoch [283/300], Loss: 0.0133\n",
      "Epoch [284/300], Loss: 0.0133\n",
      "Epoch [283/300], Loss: 0.0133\n",
      "Epoch [284/300], Loss: 0.0133\n",
      "Epoch [285/300], Loss: 0.0133\n",
      "Epoch [286/300], Loss: 0.0133\n",
      "Epoch [285/300], Loss: 0.0133\n",
      "Epoch [286/300], Loss: 0.0133\n",
      "Epoch [287/300], Loss: 0.0133\n",
      "Epoch [288/300], Loss: 0.0133\n",
      "Epoch [287/300], Loss: 0.0133\n",
      "Epoch [288/300], Loss: 0.0133\n",
      "Epoch [289/300], Loss: 0.0133\n",
      "Epoch [290/300], Loss: 0.0133\n",
      "Epoch [289/300], Loss: 0.0133\n",
      "Epoch [290/300], Loss: 0.0133\n",
      "Epoch [291/300], Loss: 0.0133\n",
      "Epoch [292/300], Loss: 0.0133\n",
      "Epoch [291/300], Loss: 0.0133\n",
      "Epoch [292/300], Loss: 0.0133\n",
      "Epoch [293/300], Loss: 0.0133\n",
      "Epoch [294/300], Loss: 0.0133\n",
      "Epoch [293/300], Loss: 0.0133\n",
      "Epoch [294/300], Loss: 0.0133\n",
      "Epoch [295/300], Loss: 0.0133\n",
      "Epoch [296/300], Loss: 0.0133\n",
      "Epoch [295/300], Loss: 0.0133\n",
      "Epoch [296/300], Loss: 0.0133\n",
      "Epoch [297/300], Loss: 0.0133\n",
      "Epoch [298/300], Loss: 0.0133\n",
      "Epoch [297/300], Loss: 0.0133\n",
      "Epoch [298/300], Loss: 0.0133\n",
      "Epoch [299/300], Loss: 0.0133\n",
      "Epoch [300/300], Loss: 0.0133\n",
      "Epoch [299/300], Loss: 0.0133\n",
      "Epoch [300/300], Loss: 0.0133\n"
     ]
    }
   ],
   "source": [
    "# 訓練過程\n",
    "loss_history = []\n",
    "\n",
    "# 第 1 步驟：Epoch 迴圈\n",
    "for epoch in range(epochs):\n",
    "    model.train()  # 設定為訓練模式\n",
    "    running_loss = 0.0\n",
    "    \n",
    "    # 第 2 步驟：逐批次處理資料\n",
    "    for times, data_train in enumerate(Train_list):\n",
    "        inputs, labels = data_train\n",
    "        inputs, labels = torch.from_numpy(inputs).to(device), torch.from_numpy(labels).to(device)\n",
    "        \n",
    "        # 第 3 步驟：前向傳播\n",
    "        optimizer.zero_grad()  # 清零梯度\n",
    "        output_train = model(inputs)  # 模型預測\n",
    "        \n",
    "        # 第 4 步驟：計算損失\n",
    "        loss = criterion(output_train, labels)\n",
    "        \n",
    "        # 第 5 步驟：反向傳播計算梯度\n",
    "        loss.backward()\n",
    "        \n",
    "        # 第 6 步驟：參數更新\n",
    "        optimizer.step()\n",
    "        \n",
    "        # 記錄損失\n",
    "        running_loss += loss.item()\n",
    "    \n",
    "    # 第 7 步驟：重複直到訓練完成\n",
    "    print(f'Epoch [{epoch+1}/{epochs}], Loss: {running_loss/len(Train_list):.4f}')"
   ]
  },
  {
   "cell_type": "markdown",
   "metadata": {
    "id": "QUMJMX9q57v0"
   },
   "source": [
    "## 5. 訓練完的預測表現\n",
    "\n",
    "請使用 `mean_squared_error` 評估模型表現。"
   ]
  },
  {
   "cell_type": "code",
   "execution_count": 192,
   "metadata": {
    "id": "HL8dYKzC5yAw"
   },
   "outputs": [
    {
     "name": "stdout",
     "output_type": "stream",
     "text": [
      "MSE: 0.0187\n"
     ]
    }
   ],
   "source": [
    "from sklearn.metrics import mean_squared_error\n",
    "\n",
    "# 準備預測資料 - 將輸入資料轉換為適合模型的格式\n",
    "batch_x_in = np.reshape(x_in, (-1, 3))  # 三個特徵維度\n",
    "batch_x_in = torch.from_numpy(batch_x_in).to(device)\n",
    "\n",
    "# 模型預測\n",
    "y_pred = model(batch_x_in)\n",
    "\n",
    "# 將預測結果轉回 numpy 格式\n",
    "y_pred = y_pred.cpu().data.numpy()\n",
    "y_pred = np.squeeze(y_pred)\n",
    "\n",
    "# 計算 MSE\n",
    "mse = mean_squared_error(y_pred=y_pred, y_true=y_noise)\n",
    "print('MSE: %.4f' % mse)"
   ]
  },
  {
   "cell_type": "markdown",
   "metadata": {
    "id": "_sQ1uz2x6BUs"
   },
   "source": [
    "### 查看訓練參數\n",
    "\n",
    "使用 `.weights` 以及 `.bias` 可以拿取模型所有的參數"
   ]
  },
  {
   "cell_type": "code",
   "execution_count": 193,
   "metadata": {
    "id": "vHY4t1Ud584R"
   },
   "outputs": [
    {
     "name": "stdout",
     "output_type": "stream",
     "text": [
      "w1_true: 10 \n",
      "w2_true: 8 \n",
      "w3_true: 6 \n",
      "b_true: 4\n",
      "----------\n",
      "w1_pred: tensor(10.1899) \n",
      "w2_pred: tensor(8.0232) \n",
      "w3_pred: tensor(6.0051) \n",
      "b_pred: tensor(3.8173)\n"
     ]
    }
   ],
   "source": [
    "# 提取訓練後的參數\n",
    "w1_pred = model.fc.weight[0][0].data\n",
    "w2_pred = model.fc.weight[0][1].data\n",
    "w3_pred = model.fc.weight[0][2].data\n",
    "b_pred = model.fc.bias[0].data\n",
    "\n",
    "print('w1_true:', 10, '\\nw2_true:', 8, '\\nw3_true:', 6, '\\nb_true:', 4)\n",
    "print('-'*10)\n",
    "print('w1_pred:', w1_pred, '\\nw2_pred:', w2_pred, '\\nw3_pred:', w3_pred, '\\nb_pred:', b_pred)"
   ]
  }
 ],
 "metadata": {
  "colab": {
   "provenance": [
    {
     "file_id": "1Bl6Us1x1EDrS3CFnuec4SY2DGflMs1Bt",
     "timestamp": 1613614167710
    }
   ]
  },
  "kernelspec": {
   "display_name": "Python 3",
   "language": "python",
   "name": "python3"
  },
  "language_info": {
   "codemirror_mode": {
    "name": "ipython",
    "version": 3
   },
   "file_extension": ".py",
   "mimetype": "text/x-python",
   "name": "python",
   "nbconvert_exporter": "python",
   "pygments_lexer": "ipython3",
   "version": "3.12.4"
  }
 },
 "nbformat": 4,
 "nbformat_minor": 4
}
