{
 "cells": [
  {
   "cell_type": "markdown",
   "metadata": {
    "id": "kEu3xTmjphRT"
   },
   "source": [
    "# 1. 下載辛普森資料集\n",
    "\n",
    "> 今天課程練習用的資料集也存在 TWS 平台的「雲端物件儲存」，如有需要歡迎到「cnn0705dataset」下載使用"
   ]
  },
  {
   "cell_type": "code",
   "execution_count": null,
   "metadata": {
    "id": "9YOGcid4phRV",
    "outputId": "69ad3f2c-b430-4ea7-bc5a-599d880f2311"
   },
   "outputs": [],
   "source": [
    "# !pip install --upgrade --no-cache-dir gdown"
   ]
  },
  {
   "cell_type": "code",
   "execution_count": null,
   "metadata": {
    "id": "IObccrVWphRW",
    "outputId": "8f281bc2-e77b-459c-f570-d1132305abd9"
   },
   "outputs": [],
   "source": [
    "import gdown\n",
    "\n",
    "url = \"https://drive.google.com/u/1/uc?id=1uW7-AaXgrIm2b41RCVh1ZPcvLKSTKjh3&export=download\"\n",
    "output = \"simpson_dataset\"\n",
    "gdown.download(url, output, quiet=False)"
   ]
  },
  {
   "cell_type": "code",
   "execution_count": null,
   "metadata": {
    "id": "9ayQG2W4phRW"
   },
   "outputs": [],
   "source": [
    "!unzip -o -qq  simpson_dataset   "
   ]
  },
  {
   "cell_type": "markdown",
   "metadata": {
    "id": "OZL9cZ8-phRX"
   },
   "source": [
    "# 2. 下載模型的權重檔案"
   ]
  },
  {
   "cell_type": "code",
   "execution_count": null,
   "metadata": {
    "id": "EIVaEXE3phRX",
    "outputId": "447e986c-9fcd-4ab4-b894-98542bd3c0e3"
   },
   "outputs": [],
   "source": [
    "import gdown\n",
    "\n",
    "url = \"https://drive.google.com/u/1/uc?id=10JTpnfI4eTf5NTKjKyJVklObsvBNHyXV&export=download\"\n",
    "output = \"model-logs.zip\"\n",
    "gdown.download(url, output, quiet=False)"
   ]
  },
  {
   "cell_type": "code",
   "execution_count": null,
   "metadata": {
    "id": "JtzEcBPkphRX",
    "outputId": "a85b8ff2-3a59-4963-8eb8-ce0516e3ca19"
   },
   "outputs": [],
   "source": [
    "!unzip  -o model-logs.zip  "
   ]
  },
  {
   "cell_type": "code",
   "execution_count": null,
   "metadata": {
    "id": "tzAypX7RphRY"
   },
   "outputs": [],
   "source": []
  },
  {
   "cell_type": "code",
   "execution_count": null,
   "metadata": {},
   "outputs": [],
   "source": []
  }
 ],
 "metadata": {
  "colab": {
   "collapsed_sections": [],
   "name": "DownLoad_Dataset_Model.ipynb",
   "provenance": []
  },
  "kernelspec": {
   "display_name": "Python 3 (ipykernel)",
   "language": "python",
   "name": "python3"
  },
  "language_info": {
   "codemirror_mode": {
    "name": "ipython",
    "version": 3
   },
   "file_extension": ".py",
   "mimetype": "text/x-python",
   "name": "python",
   "nbconvert_exporter": "python",
   "pygments_lexer": "ipython3",
   "version": "3.12.3"
  }
 },
 "nbformat": 4,
 "nbformat_minor": 4
}
